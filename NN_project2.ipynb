{
 "cells": [
  {
   "cell_type": "code",
   "execution_count": 1,
   "metadata": {},
   "outputs": [
    {
     "name": "stderr",
     "output_type": "stream",
     "text": [
      "/usr/local/lib/python3.7/site-packages/sklearn/externals/six.py:31: DeprecationWarning: The module is deprecated in version 0.21 and will be removed in version 0.23 since we've dropped support for Python 2.7. Please rely on the official version of six (https://pypi.org/project/six/).\n",
      "  \"(https://pypi.org/project/six/).\", DeprecationWarning)\n"
     ]
    }
   ],
   "source": [
    "from sklearn.model_selection import train_test_split\n",
    "from sklearn.preprocessing import MinMaxScaler, OneHotEncoder\n",
    "from sklearn.feature_extraction.text import TfidfVectorizer\n",
    "#from sklearn.metrics import accuracy_score\n",
    "from sklearn import metrics\n",
    "\n",
    "from sklearn.linear_model import LinearRegression\n",
    "from sklearn.model_selection import learning_curve\n",
    "from sklearn.model_selection import validation_curve\n",
    "\n",
    "import mlrose\n",
    "\n",
    "import numpy as np\n",
    "import pandas as pd\n",
    "\n",
    "from scipy.io import arff\n",
    "import matplotlib.pyplot as plt\n",
    "#FROM PROJECT 1 DATA PREP\n",
    "# training_score = 'training score'\n",
    "# cross_validation_score = 'cross validation score'\n",
    "# y_label = 'fl score'\n",
    "\n",
    "# np.random.seed(3141531) \n",
    "# tfidf_vectorizer = TfidfVectorizer(token_pattern=r\"(?u)\\b\\w+\\b\", stop_words=None)\n",
    "# pd.set_option('display.max_columns', None)\n",
    "\n",
    "\n",
    "# file = \"income_data_final.csv\"\n",
    "# df = pd.read_csv(file)\n",
    "# df = df.sample(frac=1).reset_index(drop=True)\n",
    "\n",
    "# #df = pd.DataFrame(data[0])\n",
    "# features = ['age', 'workclass', 'marital-status', 'occupation', 'relationship', 'race', 'gender', 'capital-gain', 'capital-loss', 'hours-per-week', 'education-num']\n",
    "\n",
    "# x_features = df[features]\n",
    "\n",
    "# onehotencoder = OneHotEncoder(categorical_features = [1,3,4,5,6,7,8,9])\n",
    "# x_features = onehotencoder.fit_transform(x_features).toarray()\n",
    "# y_predict = df.y_predict\n",
    "\n",
    "# #######################################################################\n",
    "# ### NN FOR PROJECT 2\n",
    "# #######################################################################\n",
    "\n",
    "\n",
    "\n",
    "\n",
    "# #.1024\n",
    "# #x_g,x_hypertune, y_g, y_hypertune  = train_test_split(x_features, y_predict, test_size=0.1024, random_state=143)\n",
    "# x_train, x_test, y_train, y_test = train_test_split(x_features, y_predict, test_size=0.3, random_state=143)\n",
    "\n",
    "# ##spliting training set into a smaller set\n",
    "# x_g,x_hypertune, y_g, y_hypertune = train_test_split(x_train, y_train, test_size=0.2, random_state=122)\n",
    "\n",
    "\n",
    "# train_sizes_lc = [300, 6000, 12000, 16000, 20000, 24000]\n"
   ]
  },
  {
   "cell_type": "code",
   "execution_count": 2,
   "metadata": {},
   "outputs": [
    {
     "name": "stdout",
     "output_type": "stream",
     "text": [
      "126     0.0\n",
      "810     0.0\n",
      "635     0.0\n",
      "598     1.0\n",
      "880     0.0\n",
      "       ... \n",
      "715     1.0\n",
      "905     0.0\n",
      "1096    1.0\n",
      "235     1.0\n",
      "1061    1.0\n",
      "Name: quality, Length: 1119, dtype: float64\n"
     ]
    }
   ],
   "source": [
    "# is wine data set better?\n",
    "#loading wine data ..\n",
    "file = \"wine.arff\"\n",
    "data = arff.loadarff(file)\n",
    "df = pd.DataFrame(data[0])\n",
    "\n",
    "features = ['fixed_acidity',  'pH', 'residual_sugar', 'volatile_acidity',  \n",
    "'citric_acid',  'chlorides', 'free_sulfur_dioxide',  \n",
    "'total_sulfur_dioxide',  'density',  'sulphates', 'alcohol']\n",
    "\n",
    "##remove pH, residual_sugar\n",
    "\n",
    "x_features = df[features]\n",
    "y_predict = df.quality\n",
    "\n",
    "x_train, x_test, y_train, y_test = train_test_split(x_features, y_predict, test_size=0.3, random_state=1)\n",
    "#x_train1, x_val1, y_train1, y_val1 = train_test_split(x_train, y_train, test_size=0.2, random_state=12)\n",
    "\n",
    "\n",
    "\n",
    "train_sizes_lc = [30, 100, 250, 400, 600, 894]\n",
    "train_sizes3 = [30, 120, 250, 400, 600, 894]\n",
    "\n",
    "print(y_train)"
   ]
  },
  {
   "cell_type": "code",
   "execution_count": 3,
   "metadata": {},
   "outputs": [],
   "source": [
    "def plot_lc(title, train_sizes, train_scores, validation_scores):\n",
    "    train_scores_mean = train_scores.mean(axis = 1)\n",
    "    validation_scores_mean = validation_scores.mean(axis = 1)\n",
    "\n",
    "    print('Training scores:\\n\\n', train_scores)\n",
    "    print('\\n', '-' * 70) # separator to make the output easy to read\n",
    "    print('\\nValidation scores:\\n\\n', validation_scores)\n",
    "\n",
    "\n",
    "    plt.style.use('seaborn')\n",
    "    plt.plot(train_sizes_lc, train_scores_mean, label = \"training_score\")\n",
    "    plt.plot(train_sizes_lc, validation_scores_mean, label = \"cross_validation_score\")\n",
    "    plt.ylabel(\"f1 score\", fontsize = 14)\n",
    "    plt.xlabel('Training set size', fontsize = 14)\n",
    "    plt.title(title, fontsize = 18, y = 1.03)\n",
    "    plt.legend()\n",
    "    plt.ylim(0.0,1.0)\n",
    "    \n",
    "    return plt\n",
    "\n",
    "def plot_vc(title, train_scores, validation_scores, plot_range):\n",
    "    train_scores_mean = train_scores.mean(axis = 1)\n",
    "    validation_scores_mean = validation_scores.mean(axis = 1)\n",
    "\n",
    "    print('Training scores:\\n\\n', train_scores)\n",
    "    print('\\n', '-' * 70) # separator to make the output easy to read\n",
    "    print('\\nValidation scores:\\n\\n', validation_scores)\n",
    "\n",
    "    plt.style.use('seaborn')\n",
    "    plt.plot(plot_range, train_scores_mean, label = \"training_score\")\n",
    "    plt.plot(plot_range, validation_scores_mean, label = \"cross_validation_score\")\n",
    "    plt.ylabel(\"f1 score\", fontsize = 14)\n",
    "    plt.xlabel('max_iter', fontsize = 14)\n",
    "    plt.title(title, fontsize = 18, y = 1.03)\n",
    "    plt.legend()\n",
    "    plt.ylim(0.0,1.0)\n",
    "    \n",
    "    return plt\n",
    "\n",
    "def plot_single(title, train_scores, plot_range):\n",
    "    train_scores_mean = train_scores.mean(axis = 1)\n",
    "\n",
    "    print('Training scores:\\n\\n', train_scores)\n",
    "    print('\\n', '-' * 70) # separator to make the output easy to read\n",
    "    print('\\nValidation scores:\\n\\n', validation_scores)\n",
    "\n",
    "    plt.style.use('seaborn')\n",
    "    plt.plot(plot_range, train_scores_mean, label = \"training_score\")\n",
    "    plt.plot(plot_range, validation_scores_mean, label = \"cross_validation_score\")\n",
    "    plt.ylabel(\"f1 score\", fontsize = 14)\n",
    "    plt.xlabel('max_iter', fontsize = 14)\n",
    "    plt.title(title, fontsize = 18, y = 1.03)\n",
    "    plt.legend()\n",
    "    plt.ylim(0.0,1.0)\n",
    "    \n",
    "    return plt"
   ]
  },
  {
   "cell_type": "code",
   "execution_count": 69,
   "metadata": {},
   "outputs": [],
   "source": [
    "# RANDOM HILL CLIMB\n",
    "\n",
    "##LR .0001\n",
    "nn_model1_rhc = mlrose.NeuralNetwork(hidden_nodes = [9,8], activation = 'relu', \\\n",
    "                                 algorithm = 'random_hill_climb', max_iters = 5000, \\\n",
    "                                 bias = True, is_classifier = True, learning_rate = .1, \\\n",
    "                                 early_stopping = True, clip_max = 5, max_attempts = 500, \\\n",
    "                                 random_state = 33, restarts=5)\n",
    "\n",
    "#nn_model1_rhc.fit(x_train, y_train)\n",
    "train_sizes_rhc, train_scores_rhc, validation_scores_rhc = learning_curve(\n",
    "estimator = nn_model1_rhc,\n",
    "X = x_train,\n",
    "y = y_train, train_sizes = train_sizes_lc, cv = 5,\n",
    "scoring = 'f1',\n",
    "n_jobs=5)\n",
    "    "
   ]
  },
  {
   "cell_type": "code",
   "execution_count": 70,
   "metadata": {},
   "outputs": [
    {
     "name": "stdout",
     "output_type": "stream",
     "text": [
      "Training scores:\n",
      "\n",
      " [[0.         0.69565217 0.66666667 0.54545455 0.69565217]\n",
      " [0.52892562 0.7654321  0.61290323 0.7518797  0.63076923]\n",
      " [0.60899654 0.54347826 0.64646465 0.65671642 0.70466321]\n",
      " [0.69546436 0.69979296 0.69918699 0.5720339  0.52466368]\n",
      " [0.70358306 0.71520343 0.         0.56913183 0.64748201]\n",
      " [0.56730769 0.07751938 0.48917749 0.42465753 0.69776119]]\n",
      "\n",
      " ----------------------------------------------------------------------\n",
      "\n",
      "Validation scores:\n",
      "\n",
      " [[0.         0.70144928 0.76491228 0.57241379 0.70348837]\n",
      " [0.50533808 0.69970845 0.54826255 0.6490566  0.6031746 ]\n",
      " [0.66666667 0.53497942 0.7238806  0.61728395 0.70348837]\n",
      " [0.72156863 0.61710037 0.70144928 0.53731343 0.52964427]\n",
      " [0.69411765 0.70144928 0.         0.5787234  0.66409266]\n",
      " [0.60663507 0.12121212 0.48760331 0.44343891 0.72      ]]\n"
     ]
    },
    {
     "data": {
      "text/plain": [
       "<module 'matplotlib.pyplot' from '/usr/local/lib/python3.7/site-packages/matplotlib/pyplot.py'>"
      ]
     },
     "execution_count": 70,
     "metadata": {},
     "output_type": "execute_result"
    },
    {
     "data": {
      "image/png": "[encoded data removed]",
      "text/plain": [
       "<Figure size 576x396 with 1 Axes>"
      ]
     },
     "metadata": {},
     "output_type": "display_data"
    }
   ],
   "source": [
    "plot_lc(\"random hill clim learning curve\", train_sizes_rhc, train_scores_rhc, validation_scores_rhc)"
   ]
  },
  {
   "cell_type": "code",
   "execution_count": null,
   "metadata": {},
   "outputs": [],
   "source": [
    "###LOOKING AT MAX_ITER\n",
    "#### NN Hyperparam 1 ######\n",
    "max_iter_rhc = []\n",
    "for n in range(1, 10):\n",
    "    max_iter_rhc.append(n*1000)\n",
    "\n",
    "nn_model1_rhc = mlrose.NeuralNetwork(hidden_nodes = [9,8], activation = 'relu', \\\n",
    "                                 algorithm = 'random_hill_climb', max_iters = 5000, \\\n",
    "                                 bias = True, is_classifier = True, learning_rate = .1, \\\n",
    "                                 early_stopping = False, clip_max = 5, max_attempts = 500, \\\n",
    "                                 random_state = 33, restarts=3)\n",
    "\n",
    "train_scores_rhc, validation_scores_rhc = validation_curve(\n",
    "estimator = nn_model1_rhc,\n",
    "param_name = \"max_iter\",\n",
    "param_range = max_iter_rhc,\n",
    "X = x_train,\n",
    "y = y_train, cv = 5,\n",
    "scoring = 'f1',\n",
    "n_jobs=5)\n"
   ]
  },
  {
   "cell_type": "code",
   "execution_count": null,
   "metadata": {},
   "outputs": [],
   "source": [
    "plot_vc(\"random hill climb - Max Iter / Epochs\", train_scores_rhc, validation_scores_rhc, max_iter_rhc)"
   ]
  },
  {
   "cell_type": "code",
   "execution_count": 80,
   "metadata": {},
   "outputs": [
    {
     "data": {
      "text/plain": [
       "NeuralNetwork(bias=True, clip_max=5, early_stopping=True, hidden_nodes=[9, 8],\n",
       "              is_classifier=True, learning_rate=0.1, max_iters=5000,\n",
       "              mutation_prob=0.1, pop_size=200, restarts=3,\n",
       "              schedule=<mlrose.decay.GeomDecay object at 0x125508690>)"
      ]
     },
     "execution_count": 80,
     "metadata": {},
     "output_type": "execute_result"
    }
   ],
   "source": [
    "####TRAIN NN FOR RANDOM HILL CLIMB\n",
    "nn_model1_rhc = mlrose.NeuralNetwork(hidden_nodes = [9,8], activation = 'relu', \\\n",
    "                                 algorithm = 'random_hill_climb', max_iters = 5000, \\\n",
    "                                 bias = True, is_classifier = True, learning_rate = .1, \\\n",
    "                                 early_stopping = True, clip_max = 5, max_attempts = 500, \\\n",
    "                                 random_state = 33, restarts=3)\n",
    "\n",
    "nn_model1_rhc.fit(x_train, y_train)"
   ]
  },
  {
   "cell_type": "code",
   "execution_count": 81,
   "metadata": {},
   "outputs": [
    {
     "name": "stdout",
     "output_type": "stream",
     "text": [
      "{'TRAIN': {'0.0': {'precision': 0.6841085271317829, 'recall': 0.6867704280155642, 'f1-score': 0.6854368932038835, 'support': 514}, '1.0': {'precision': 0.7330016583747927, 'recall': 0.7305785123966942, 'f1-score': 0.7317880794701985, 'support': 605}, 'accuracy': 0.710455764075067, 'macro avg': {'precision': 0.7085550927532878, 'recall': 0.7086744702061292, 'f1-score': 0.708612486337041, 'support': 1119}, 'weighted avg': {'precision': 0.7105431512622753, 'recall': 0.710455764075067, 'f1-score': 0.710497186046708, 'support': 1119}}}\n",
      "\n",
      "\n",
      "{'TEST': {'0.0': {'precision': 0.6651982378854625, 'recall': 0.6565217391304348, 'f1-score': 0.660831509846827, 'support': 230}, '1.0': {'precision': 0.6877470355731226, 'recall': 0.696, 'f1-score': 0.6918489065606361, 'support': 250}, 'accuracy': 0.6770833333333334, 'macro avg': {'precision': 0.6764726367292926, 'recall': 0.6762608695652174, 'f1-score': 0.6763402082037315, 'support': 480}, 'weighted avg': {'precision': 0.6769424033477854, 'recall': 0.6770833333333334, 'f1-score': 0.6769864039686025, 'support': 480}}}\n",
      "LOSS FUNCTION\n",
      "0.5563985214429683\n"
     ]
    }
   ],
   "source": [
    "#RANDOM HILL CLIMB RESULTS\n",
    "y_pred_train = nn_model1_rhc.predict(x_train)\n",
    "train_res = metrics.classification_report(y_train, y_pred_train, output_dict = True)\n",
    "print({\"TRAIN\": train_res})\n",
    "print(\"\\n\")\n",
    "# Predict labels for test set and assess accuracy\n",
    "y_pred_test = nn_model1_rhc.predict(x_test)\n",
    "\n",
    "test_res = metrics.classification_report(y_test, y_pred_test, output_dict = True)\n",
    "print({\"TEST\": test_res})\n",
    "\n",
    "print(\"LOSS FUNCTION\")\n",
    "print(nn_model1_rhc.loss)"
   ]
  },
  {
   "cell_type": "code",
   "execution_count": 30,
   "metadata": {},
   "outputs": [],
   "source": [
    "#### SIMULATED ANEALING\n",
    "\n",
    "nn_model1_sa = mlrose.NeuralNetwork(hidden_nodes = [9,8], activation = 'tanh', \\\n",
    "                                 algorithm = 'simulated_annealing', max_iters = 15000, \\\n",
    "                                 bias = True, is_classifier = True, learning_rate = .01, \\\n",
    "                                 early_stopping = False, clip_max = 5, max_attempts = 10, \\\n",
    "                                 random_state = 33)\n",
    "\n",
    "#nn_model1_rhc.fit(x_train, y_train)\n",
    "train_sizes_sa, train_scores_sa, validation_scores_sa = learning_curve(\n",
    "estimator = nn_model1_sa,\n",
    "X = x_train,\n",
    "y = y_train, train_sizes = train_sizes_lc, cv = 5,\n",
    "scoring = 'f1',\n",
    "\n",
    "n_jobs=5)"
   ]
  },
  {
   "cell_type": "code",
   "execution_count": 31,
   "metadata": {},
   "outputs": [
    {
     "name": "stdout",
     "output_type": "stream",
     "text": [
      "Training scores:\n",
      "\n",
      " [[0.81081081 0.83333333 0.8125     0.76470588 0.58064516]\n",
      " [0.71428571 0.83916084 0.82517483 0.78873239 0.78832117]\n",
      " [0.63043478 0.48730964 0.69257951 0.72118959 0.72852234]\n",
      " [0.40506329 0.77822581 0.71206226 0.67611336 0.68514851]\n",
      " [0.68326418 0.72156863 0.73640167 0.7436919  0.72432432]\n",
      " [0.71428571 0.69957983 0.67504836 0.6802444  0.73302326]]\n",
      "\n",
      " ----------------------------------------------------------------------\n",
      "\n",
      "Validation scores:\n",
      "\n",
      " [[0.609375   0.53846154 0.63529412 0.54752852 0.4940239 ]\n",
      " [0.63878327 0.69565217 0.75618375 0.73754153 0.72542373]\n",
      " [0.61135371 0.42622951 0.73170732 0.73092369 0.74418605]\n",
      " [0.36170213 0.66176471 0.76223776 0.62686567 0.71378092]\n",
      " [0.69372694 0.66896552 0.7816092  0.68794326 0.69964664]\n",
      " [0.71272727 0.62040816 0.72868217 0.61788618 0.71532847]]\n"
     ]
    },
    {
     "data": {
      "text/plain": [
       "<module 'matplotlib.pyplot' from '/usr/local/lib/python3.7/site-packages/matplotlib/pyplot.py'>"
      ]
     },
     "execution_count": 31,
     "metadata": {},
     "output_type": "execute_result"
    },
    {
     "data": {
      "image/png": "[encoded data removed]",
      "text/plain": [
       "<Figure size 576x396 with 1 Axes>"
      ]
     },
     "metadata": {},
     "output_type": "display_data"
    }
   ],
   "source": [
    "plot_lc(\"simulated annealing learning curve\", train_sizes_sa, train_scores_sa, validation_scores_sa)"
   ]
  },
  {
   "cell_type": "code",
   "execution_count": 12,
   "metadata": {},
   "outputs": [],
   "source": [
    "###LOOKING AT MAX_ITER\n",
    "#### SA NN Hyperparam 1 ######\n",
    "\n",
    "max_iter_sa = []\n",
    "for n in range(1, 10):\n",
    "    max_iter_sa.append(n*1000)\n",
    "\n",
    "nn_model1_sa = mlrose.NeuralNetwork(hidden_nodes = [9,8], activation = 'tanh', \\\n",
    "                                 algorithm = 'simulated_annealing', max_iters = 15000, \\\n",
    "                                 bias = True, is_classifier = True, learning_rate = .01, \\\n",
    "                                 early_stopping = False, clip_max = 5, max_attempts = 10, \\\n",
    "                                 random_state = 33)\n",
    "\n",
    "train_scores_sa, validation_scores_sa = validation_curve(\n",
    "estimator = nn_model1_sa,\n",
    "param_name = \"max_iter\",\n",
    "param_range = max_iter_sa,\n",
    "X = x_train,\n",
    "y = y_train, cv = 5,\n",
    "scoring = 'f1',\n",
    "n_jobs=5)\n"
   ]
  },
  {
   "cell_type": "code",
   "execution_count": 13,
   "metadata": {},
   "outputs": [
    {
     "name": "stdout",
     "output_type": "stream",
     "text": [
      "Training scores:\n",
      "\n",
      " [[0.07909605 0.69489051 0.51940299 0.         0.03976143]\n",
      " [0.69572954 0.24759285 0.50644783 0.         0.69208211]\n",
      " [0.70195794 0.20334262 0.         0.70195794 0.70144928]\n",
      " [0.         0.65842349 0.         0.70195794 0.70144928]\n",
      " [0.69174312 0.46259843 0.         0.         0.70144928]\n",
      " [0.61815209 0.70195794 0.7031364  0.38244514 0.70144928]\n",
      " [0.         0.         0.70972532 0.39653036 0.66111574]\n",
      " [0.         0.70195794 0.         0.6732373  0.        ]\n",
      " [0.70195794 0.         0.70195794 0.         0.25666667]]\n",
      "\n",
      " ----------------------------------------------------------------------\n",
      "\n",
      "Validation scores:\n",
      "\n",
      " [[0.11940299 0.69767442 0.48627451 0.         0.03174603]\n",
      " [0.72542373 0.31182796 0.54807692 0.         0.69208211]\n",
      " [0.70144928 0.26815642 0.         0.70144928 0.70348837]\n",
      " [0.         0.66666667 0.         0.70144928 0.70348837]\n",
      " [0.70072993 0.51181102 0.         0.01639344 0.70348837]\n",
      " [0.62783172 0.70144928 0.69767442 0.30188679 0.70348837]\n",
      " [0.         0.         0.70658683 0.41414141 0.68896321]\n",
      " [0.         0.70144928 0.         0.66869301 0.        ]\n",
      " [0.70144928 0.         0.70144928 0.         0.19047619]]\n"
     ]
    },
    {
     "data": {
      "text/plain": [
       "<module 'matplotlib.pyplot' from '/usr/local/lib/python3.7/site-packages/matplotlib/pyplot.py'>"
      ]
     },
     "execution_count": 13,
     "metadata": {},
     "output_type": "execute_result"
    },
    {
     "data": {
      "image/png": "[encoded data removed]",
      "text/plain": [
       "<Figure size 576x396 with 1 Axes>"
      ]
     },
     "metadata": {},
     "output_type": "display_data"
    }
   ],
   "source": [
    "plot_vc(\"Simulated Annealing - Max Iter / Epochs\", train_scores_sa, validation_scores_sa, max_iter_sa)"
   ]
  },
  {
   "cell_type": "code",
   "execution_count": 67,
   "metadata": {},
   "outputs": [
    {
     "data": {
      "text/plain": [
       "NeuralNetwork(bias=True, clip_max=5, early_stopping=True, hidden_nodes=[9, 8],\n",
       "              is_classifier=True, learning_rate=0.01, max_iters=15000,\n",
       "              mutation_prob=0.1, pop_size=200, restarts=0,\n",
       "              schedule=<mlrose.decay.GeomDecay object at 0x125508690>)"
      ]
     },
     "execution_count": 67,
     "metadata": {},
     "output_type": "execute_result"
    }
   ],
   "source": [
    "####TRAIN NN FOR SIM ANAL\n",
    "nn_model1_sa = mlrose.NeuralNetwork(hidden_nodes = [9,8], activation = 'tanh', \\\n",
    "                                 algorithm = 'simulated_annealing', max_iters = 15000, \\\n",
    "                                 bias = True, is_classifier = True, learning_rate = .01, \\\n",
    "                                 early_stopping = True, clip_max = 5, max_attempts = 500, \\\n",
    "                                 random_state = 33)\n",
    "\n",
    "nn_model1_sa.fit(x_train, y_train)"
   ]
  },
  {
   "cell_type": "code",
   "execution_count": 68,
   "metadata": {},
   "outputs": [
    {
     "name": "stdout",
     "output_type": "stream",
     "text": [
      "{'TRAIN': {'0.0': {'precision': 0.30434782608695654, 'recall': 0.013618677042801557, 'f1-score': 0.0260707635009311, 'support': 514}, '1.0': {'precision': 0.5374087591240876, 'recall': 0.9735537190082645, 'f1-score': 0.6925338036449148, 'support': 605}, 'accuracy': 0.5326184092940125, 'macro avg': {'precision': 0.42087829260552206, 'recall': 0.493586198025533, 'f1-score': 0.35930228357292293, 'support': 1119}, 'weighted avg': {'precision': 0.43035485422588793, 'recall': 0.5326184092940125, 'f1-score': 0.38640154034374624, 'support': 1119}}}\n",
      "\n",
      "\n",
      "{'TEST': {'0.0': {'precision': 0.3333333333333333, 'recall': 0.013043478260869565, 'f1-score': 0.02510460251046025, 'support': 230}, '1.0': {'precision': 0.5180467091295117, 'recall': 0.976, 'f1-score': 0.6768377253814147, 'support': 250}, 'accuracy': 0.5145833333333333, 'macro avg': {'precision': 0.4256900212314225, 'recall': 0.4945217391304348, 'f1-score': 0.35097116394593747, 'support': 480}, 'weighted avg': {'precision': 0.42953821656050956, 'recall': 0.5145833333333333, 'f1-score': 0.3645489373390824, 'support': 480}}}\n",
      "LOSS FUNCTION\n",
      "0.6934696087855439\n"
     ]
    }
   ],
   "source": [
    "# Predict labels for train set and assess accuracy\n",
    "y_pred_train = nn_model1_sa.predict(x_train)\n",
    "train_res = metrics.classification_report(y_train, y_pred_train, output_dict = True)\n",
    "print({\"TRAIN\": train_res})\n",
    "print(\"\\n\")\n",
    "# Predict labels for test set and assess accuracy\n",
    "y_pred_test = nn_model1_sa.predict(x_test)\n",
    "\n",
    "test_res = metrics.classification_report(y_test, y_pred_test, output_dict = True)\n",
    "print({\"TEST\": test_res})\n",
    "\n",
    "print(\"LOSS FUNCTION\")\n",
    "print(nn_model1_sa.loss)"
   ]
  },
  {
   "cell_type": "code",
   "execution_count": 29,
   "metadata": {},
   "outputs": [
    {
     "ename": "KeyboardInterrupt",
     "evalue": "",
     "output_type": "error",
     "traceback": [
      "\u001b[0;31m--------------------------------------------------------------------\u001b[0m",
      "\u001b[0;31mKeyboardInterrupt\u001b[0m                  Traceback (most recent call last)",
      "\u001b[0;32m<ipython-input-29-1b4ee4f22555>\u001b[0m in \u001b[0;36m<module>\u001b[0;34m\u001b[0m\n\u001b[1;32m     14\u001b[0m \u001b[0my\u001b[0m \u001b[0;34m=\u001b[0m \u001b[0my_train\u001b[0m\u001b[0;34m,\u001b[0m \u001b[0mtrain_sizes\u001b[0m \u001b[0;34m=\u001b[0m \u001b[0mtrain_sizes_lc\u001b[0m\u001b[0;34m,\u001b[0m \u001b[0mcv\u001b[0m \u001b[0;34m=\u001b[0m \u001b[0;36m5\u001b[0m\u001b[0;34m,\u001b[0m\u001b[0;34m\u001b[0m\u001b[0;34m\u001b[0m\u001b[0m\n\u001b[1;32m     15\u001b[0m \u001b[0mscoring\u001b[0m \u001b[0;34m=\u001b[0m \u001b[0;34m'f1'\u001b[0m\u001b[0;34m,\u001b[0m\u001b[0;34m\u001b[0m\u001b[0;34m\u001b[0m\u001b[0m\n\u001b[0;32m---> 16\u001b[0;31m n_jobs=5)\n\u001b[0m",
      "\u001b[0;32m/usr/local/lib/python3.7/site-packages/sklearn/model_selection/_validation.py\u001b[0m in \u001b[0;36mlearning_curve\u001b[0;34m(estimator, X, y, groups, train_sizes, cv, scoring, exploit_incremental_learning, n_jobs, pre_dispatch, verbose, shuffle, random_state, error_score)\u001b[0m\n\u001b[1;32m   1294\u001b[0m             \u001b[0mparameters\u001b[0m\u001b[0;34m=\u001b[0m\u001b[0;32mNone\u001b[0m\u001b[0;34m,\u001b[0m \u001b[0mfit_params\u001b[0m\u001b[0;34m=\u001b[0m\u001b[0;32mNone\u001b[0m\u001b[0;34m,\u001b[0m \u001b[0mreturn_train_score\u001b[0m\u001b[0;34m=\u001b[0m\u001b[0;32mTrue\u001b[0m\u001b[0;34m,\u001b[0m\u001b[0;34m\u001b[0m\u001b[0;34m\u001b[0m\u001b[0m\n\u001b[1;32m   1295\u001b[0m             error_score=error_score)\n\u001b[0;32m-> 1296\u001b[0;31m             for train, test in train_test_proportions)\n\u001b[0m\u001b[1;32m   1297\u001b[0m         \u001b[0mout\u001b[0m \u001b[0;34m=\u001b[0m \u001b[0mnp\u001b[0m\u001b[0;34m.\u001b[0m\u001b[0marray\u001b[0m\u001b[0;34m(\u001b[0m\u001b[0mout\u001b[0m\u001b[0;34m)\u001b[0m\u001b[0;34m\u001b[0m\u001b[0;34m\u001b[0m\u001b[0m\n\u001b[1;32m   1298\u001b[0m         \u001b[0mn_cv_folds\u001b[0m \u001b[0;34m=\u001b[0m \u001b[0mout\u001b[0m\u001b[0;34m.\u001b[0m\u001b[0mshape\u001b[0m\u001b[0;34m[\u001b[0m\u001b[0;36m0\u001b[0m\u001b[0;34m]\u001b[0m \u001b[0;34m//\u001b[0m \u001b[0mn_unique_ticks\u001b[0m\u001b[0;34m\u001b[0m\u001b[0;34m\u001b[0m\u001b[0m\n",
      "\u001b[0;32m/usr/local/lib/python3.7/site-packages/joblib/parallel.py\u001b[0m in \u001b[0;36m__call__\u001b[0;34m(self, iterable)\u001b[0m\n\u001b[1;32m    932\u001b[0m \u001b[0;34m\u001b[0m\u001b[0m\n\u001b[1;32m    933\u001b[0m             \u001b[0;32mwith\u001b[0m \u001b[0mself\u001b[0m\u001b[0;34m.\u001b[0m\u001b[0m_backend\u001b[0m\u001b[0;34m.\u001b[0m\u001b[0mretrieval_context\u001b[0m\u001b[0;34m(\u001b[0m\u001b[0;34m)\u001b[0m\u001b[0;34m:\u001b[0m\u001b[0;34m\u001b[0m\u001b[0;34m\u001b[0m\u001b[0m\n\u001b[0;32m--> 934\u001b[0;31m                 \u001b[0mself\u001b[0m\u001b[0;34m.\u001b[0m\u001b[0mretrieve\u001b[0m\u001b[0;34m(\u001b[0m\u001b[0;34m)\u001b[0m\u001b[0;34m\u001b[0m\u001b[0;34m\u001b[0m\u001b[0m\n\u001b[0m\u001b[1;32m    935\u001b[0m             \u001b[0;31m# Make sure that we get a last message telling us we are done\u001b[0m\u001b[0;34m\u001b[0m\u001b[0;34m\u001b[0m\u001b[0;34m\u001b[0m\u001b[0m\n\u001b[1;32m    936\u001b[0m             \u001b[0melapsed_time\u001b[0m \u001b[0;34m=\u001b[0m \u001b[0mtime\u001b[0m\u001b[0;34m.\u001b[0m\u001b[0mtime\u001b[0m\u001b[0;34m(\u001b[0m\u001b[0;34m)\u001b[0m \u001b[0;34m-\u001b[0m \u001b[0mself\u001b[0m\u001b[0;34m.\u001b[0m\u001b[0m_start_time\u001b[0m\u001b[0;34m\u001b[0m\u001b[0;34m\u001b[0m\u001b[0m\n",
      "\u001b[0;32m/usr/local/lib/python3.7/site-packages/joblib/parallel.py\u001b[0m in \u001b[0;36mretrieve\u001b[0;34m(self)\u001b[0m\n\u001b[1;32m    831\u001b[0m             \u001b[0;32mtry\u001b[0m\u001b[0;34m:\u001b[0m\u001b[0;34m\u001b[0m\u001b[0;34m\u001b[0m\u001b[0m\n\u001b[1;32m    832\u001b[0m                 \u001b[0;32mif\u001b[0m \u001b[0mgetattr\u001b[0m\u001b[0;34m(\u001b[0m\u001b[0mself\u001b[0m\u001b[0;34m.\u001b[0m\u001b[0m_backend\u001b[0m\u001b[0;34m,\u001b[0m \u001b[0;34m'supports_timeout'\u001b[0m\u001b[0;34m,\u001b[0m \u001b[0;32mFalse\u001b[0m\u001b[0;34m)\u001b[0m\u001b[0;34m:\u001b[0m\u001b[0;34m\u001b[0m\u001b[0;34m\u001b[0m\u001b[0m\n\u001b[0;32m--> 833\u001b[0;31m                     \u001b[0mself\u001b[0m\u001b[0;34m.\u001b[0m\u001b[0m_output\u001b[0m\u001b[0;34m.\u001b[0m\u001b[0mextend\u001b[0m\u001b[0;34m(\u001b[0m\u001b[0mjob\u001b[0m\u001b[0;34m.\u001b[0m\u001b[0mget\u001b[0m\u001b[0;34m(\u001b[0m\u001b[0mtimeout\u001b[0m\u001b[0;34m=\u001b[0m\u001b[0mself\u001b[0m\u001b[0;34m.\u001b[0m\u001b[0mtimeout\u001b[0m\u001b[0;34m)\u001b[0m\u001b[0;34m)\u001b[0m\u001b[0;34m\u001b[0m\u001b[0;34m\u001b[0m\u001b[0m\n\u001b[0m\u001b[1;32m    834\u001b[0m                 \u001b[0;32melse\u001b[0m\u001b[0;34m:\u001b[0m\u001b[0;34m\u001b[0m\u001b[0;34m\u001b[0m\u001b[0m\n\u001b[1;32m    835\u001b[0m                     \u001b[0mself\u001b[0m\u001b[0;34m.\u001b[0m\u001b[0m_output\u001b[0m\u001b[0;34m.\u001b[0m\u001b[0mextend\u001b[0m\u001b[0;34m(\u001b[0m\u001b[0mjob\u001b[0m\u001b[0;34m.\u001b[0m\u001b[0mget\u001b[0m\u001b[0;34m(\u001b[0m\u001b[0;34m)\u001b[0m\u001b[0;34m)\u001b[0m\u001b[0;34m\u001b[0m\u001b[0;34m\u001b[0m\u001b[0m\n",
      "\u001b[0;32m/usr/local/lib/python3.7/site-packages/joblib/_parallel_backends.py\u001b[0m in \u001b[0;36mwrap_future_result\u001b[0;34m(future, timeout)\u001b[0m\n\u001b[1;32m    519\u001b[0m         AsyncResults.get from multiprocessing.\"\"\"\n\u001b[1;32m    520\u001b[0m         \u001b[0;32mtry\u001b[0m\u001b[0;34m:\u001b[0m\u001b[0;34m\u001b[0m\u001b[0;34m\u001b[0m\u001b[0m\n\u001b[0;32m--> 521\u001b[0;31m             \u001b[0;32mreturn\u001b[0m \u001b[0mfuture\u001b[0m\u001b[0;34m.\u001b[0m\u001b[0mresult\u001b[0m\u001b[0;34m(\u001b[0m\u001b[0mtimeout\u001b[0m\u001b[0;34m=\u001b[0m\u001b[0mtimeout\u001b[0m\u001b[0;34m)\u001b[0m\u001b[0;34m\u001b[0m\u001b[0;34m\u001b[0m\u001b[0m\n\u001b[0m\u001b[1;32m    522\u001b[0m         \u001b[0;32mexcept\u001b[0m \u001b[0mLokyTimeoutError\u001b[0m\u001b[0;34m:\u001b[0m\u001b[0;34m\u001b[0m\u001b[0;34m\u001b[0m\u001b[0m\n\u001b[1;32m    523\u001b[0m             \u001b[0;32mraise\u001b[0m \u001b[0mTimeoutError\u001b[0m\u001b[0;34m(\u001b[0m\u001b[0;34m)\u001b[0m\u001b[0;34m\u001b[0m\u001b[0;34m\u001b[0m\u001b[0m\n",
      "\u001b[0;32m/usr/local/Cellar/python/3.7.4_1/Frameworks/Python.framework/Versions/3.7/lib/python3.7/concurrent/futures/_base.py\u001b[0m in \u001b[0;36mresult\u001b[0;34m(self, timeout)\u001b[0m\n\u001b[1;32m    428\u001b[0m                 \u001b[0;32mreturn\u001b[0m \u001b[0mself\u001b[0m\u001b[0;34m.\u001b[0m\u001b[0m__get_result\u001b[0m\u001b[0;34m(\u001b[0m\u001b[0;34m)\u001b[0m\u001b[0;34m\u001b[0m\u001b[0;34m\u001b[0m\u001b[0m\n\u001b[1;32m    429\u001b[0m \u001b[0;34m\u001b[0m\u001b[0m\n\u001b[0;32m--> 430\u001b[0;31m             \u001b[0mself\u001b[0m\u001b[0;34m.\u001b[0m\u001b[0m_condition\u001b[0m\u001b[0;34m.\u001b[0m\u001b[0mwait\u001b[0m\u001b[0;34m(\u001b[0m\u001b[0mtimeout\u001b[0m\u001b[0;34m)\u001b[0m\u001b[0;34m\u001b[0m\u001b[0;34m\u001b[0m\u001b[0m\n\u001b[0m\u001b[1;32m    431\u001b[0m \u001b[0;34m\u001b[0m\u001b[0m\n\u001b[1;32m    432\u001b[0m             \u001b[0;32mif\u001b[0m \u001b[0mself\u001b[0m\u001b[0;34m.\u001b[0m\u001b[0m_state\u001b[0m \u001b[0;32min\u001b[0m \u001b[0;34m[\u001b[0m\u001b[0mCANCELLED\u001b[0m\u001b[0;34m,\u001b[0m \u001b[0mCANCELLED_AND_NOTIFIED\u001b[0m\u001b[0;34m]\u001b[0m\u001b[0;34m:\u001b[0m\u001b[0;34m\u001b[0m\u001b[0;34m\u001b[0m\u001b[0m\n",
      "\u001b[0;32m/usr/local/Cellar/python/3.7.4_1/Frameworks/Python.framework/Versions/3.7/lib/python3.7/threading.py\u001b[0m in \u001b[0;36mwait\u001b[0;34m(self, timeout)\u001b[0m\n\u001b[1;32m    294\u001b[0m         \u001b[0;32mtry\u001b[0m\u001b[0;34m:\u001b[0m    \u001b[0;31m# restore state no matter what (e.g., KeyboardInterrupt)\u001b[0m\u001b[0;34m\u001b[0m\u001b[0;34m\u001b[0m\u001b[0m\n\u001b[1;32m    295\u001b[0m             \u001b[0;32mif\u001b[0m \u001b[0mtimeout\u001b[0m \u001b[0;32mis\u001b[0m \u001b[0;32mNone\u001b[0m\u001b[0;34m:\u001b[0m\u001b[0;34m\u001b[0m\u001b[0;34m\u001b[0m\u001b[0m\n\u001b[0;32m--> 296\u001b[0;31m                 \u001b[0mwaiter\u001b[0m\u001b[0;34m.\u001b[0m\u001b[0macquire\u001b[0m\u001b[0;34m(\u001b[0m\u001b[0;34m)\u001b[0m\u001b[0;34m\u001b[0m\u001b[0;34m\u001b[0m\u001b[0m\n\u001b[0m\u001b[1;32m    297\u001b[0m                 \u001b[0mgotit\u001b[0m \u001b[0;34m=\u001b[0m \u001b[0;32mTrue\u001b[0m\u001b[0;34m\u001b[0m\u001b[0;34m\u001b[0m\u001b[0m\n\u001b[1;32m    298\u001b[0m             \u001b[0;32melse\u001b[0m\u001b[0;34m:\u001b[0m\u001b[0;34m\u001b[0m\u001b[0;34m\u001b[0m\u001b[0m\n",
      "\u001b[0;31mKeyboardInterrupt\u001b[0m: "
     ]
    }
   ],
   "source": [
    "#### GEN ALG START\n",
    "\n",
    "\n",
    "nn_model1_ga = mlrose.NeuralNetwork(hidden_nodes = [9,8], activation = 'tanh', \\\n",
    "                                 algorithm = 'genetic_alg', max_iters = 5000, \\\n",
    "                                 bias = True, is_classifier = True, learning_rate = .5, \\\n",
    "                                 early_stopping = True, clip_max = 5, max_attempts = 500, \\\n",
    "                                 random_state = 33, pop_size=500)\n",
    "\n",
    "#nn_model1_rhc.fit(x_train, y_train)\n",
    "train_sizes_ga, train_scores_ga, validation_scores_ga = learning_curve(\n",
    "estimator = nn_model1_ga,\n",
    "X = x_train,\n",
    "y = y_train, train_sizes = train_sizes_lc, cv = 5,\n",
    "scoring = 'f1',\n",
    "n_jobs=5)"
   ]
  },
  {
   "cell_type": "code",
   "execution_count": null,
   "metadata": {},
   "outputs": [],
   "source": [
    "plot_lc(\"genetic algorithm learning curve\", train_sizes_ga, train_scores_ga, validation_scores_ga)"
   ]
  },
  {
   "cell_type": "code",
   "execution_count": null,
   "metadata": {},
   "outputs": [],
   "source": [
    "###LOOKING AT MAX_ITER\n",
    "#### SA NN Hyperparam 1 ######\n",
    "\n",
    "max_iter_ga = []\n",
    "for n in range(1, 10):\n",
    "    max_iter_ga.append(n*5000)\n",
    "\n",
    "nn_model1_ga = mlrose.NeuralNetwork(hidden_nodes = [9,8], activation = 'tanh', \\\n",
    "                                 algorithm = 'genetic_alg', max_iters = 50000, \\\n",
    "                                 bias = True, is_classifier = True, learning_rate = .5, \\\n",
    "                                 early_stopping = False, clip_max = 5, max_attempts = 10, \\\n",
    "                                 random_state = 33, pop_size=500)\n",
    "\n",
    "train_scores_ga, validation_scores_ga = validation_curve(\n",
    "estimator = nn_model1_ga,\n",
    "param_name = \"max_iter\",\n",
    "param_range = max_iter_ga,\n",
    "X = x_train,\n",
    "y = y_train, cv = 5,\n",
    "scoring = 'f1',\n",
    "n_jobs=5)\n"
   ]
  },
  {
   "cell_type": "code",
   "execution_count": null,
   "metadata": {},
   "outputs": [],
   "source": [
    "plot_vc(\"Genetic Algorithm - Max Iter\", train_scores_ga, validation_scores_ga, max_iter_ga)"
   ]
  },
  {
   "cell_type": "code",
   "execution_count": 28,
   "metadata": {},
   "outputs": [
    {
     "data": {
      "text/plain": [
       "NeuralNetwork(bias=True, clip_max=5, early_stopping=True, hidden_nodes=[9, 8],\n",
       "              is_classifier=True, learning_rate=0.1, max_iters=100,\n",
       "              mutation_prob=0.1, pop_size=200, restarts=0,\n",
       "              schedule=<mlrose.decay.GeomDecay object at 0x125508690>)"
      ]
     },
     "execution_count": 28,
     "metadata": {},
     "output_type": "execute_result"
    }
   ],
   "source": [
    "####TRAIN NN FOR GA\n",
    "nn_model1_ga = mlrose.NeuralNetwork(hidden_nodes = [9,8], activation = 'tanh', \\\n",
    "                                 algorithm = 'genetic_alg', max_iters = 100, \\\n",
    "                                 bias = True, is_classifier = True, learning_rate = .5, \\\n",
    "                                 early_stopping = True, clip_max = 5, max_attempts = 10, \\\n",
    "                                 random_state = 33)\n",
    "\n",
    "nn_model1_ga.fit(x_train, y_train)"
   ]
  },
  {
   "cell_type": "code",
   "execution_count": 26,
   "metadata": {},
   "outputs": [
    {
     "name": "stdout",
     "output_type": "stream",
     "text": [
      "{'TRAIN': {'0.0': {'precision': 0.4592391304347826, 'recall': 0.9863813229571985, 'f1-score': 0.626699629171817, 'support': 514}, '1.0': {'precision': 0.5333333333333333, 'recall': 0.013223140495867768, 'f1-score': 0.025806451612903222, 'support': 605}, 'accuracy': 0.46023235031277926, 'macro avg': {'precision': 0.49628623188405796, 'recall': 0.49980223172653315, 'f1-score': 0.3262530403923601, 'support': 1119}, 'weighted avg': {'precision': 0.49929899884731455, 'recall': 0.46023235031277926, 'f1-score': 0.3018199397856304, 'support': 1119}}}\n",
      "\n",
      "\n",
      "{'TEST': {'0.0': {'precision': 0.4780793319415449, 'recall': 0.9956521739130435, 'f1-score': 0.6459802538787024, 'support': 230}, '1.0': {'precision': 0.0, 'recall': 0.0, 'f1-score': 0.0, 'support': 250}, 'accuracy': 0.47708333333333336, 'macro avg': {'precision': 0.23903966597077245, 'recall': 0.49782608695652175, 'f1-score': 0.3229901269393512, 'support': 480}, 'weighted avg': {'precision': 0.22907967988865693, 'recall': 0.47708333333333336, 'f1-score': 0.3095322049835449, 'support': 480}}}\n",
      "LOSS FUNCTION\n",
      "[-4.60857701e+00  2.80737421e+00 -9.49207898e-01  2.28420351e+00\n",
      "  1.40958480e-01  1.01170160e+00 -2.44690260e+00  4.85957565e+00\n",
      " -4.44154866e+00  3.78018226e-01  4.49570212e-01  4.07333024e+00\n",
      " -4.52624076e+00  1.57819113e+00 -5.82156708e-01  2.80797301e+00\n",
      " -3.65455306e+00  1.62995218e-01  7.86440996e-01 -2.12778129e-01\n",
      " -2.31255701e+00 -4.73720303e+00 -8.64409802e-01  2.65805447e+00\n",
      " -4.85657255e+00 -1.20088591e+00  3.08890011e+00 -2.50552387e+00\n",
      "  1.29141044e+00  4.34046439e+00 -3.17448193e+00  2.44210369e+00\n",
      " -4.39150940e+00 -1.52146441e+00  2.47466943e+00  2.43583291e-01\n",
      "  1.56627206e+00 -3.19012977e+00  4.42191292e+00 -3.90071282e+00\n",
      "  1.99393382e+00  3.37709840e+00  2.73163496e+00  3.72569355e+00\n",
      "  2.83621493e+00  3.53609772e+00  5.16707069e-01  8.36503617e-01\n",
      " -4.60924443e+00 -6.64694014e-01  2.90838502e+00 -4.64094490e+00\n",
      "  2.43493427e+00 -4.93959640e+00  3.01983172e+00  3.68404985e+00\n",
      "  6.46965716e-01 -2.15432987e+00  1.23655438e+00  1.66767371e+00\n",
      " -3.81187372e+00 -1.71404103e+00  4.42029495e+00 -3.71902735e-01\n",
      "  3.67736205e+00  1.98442616e+00  2.51998282e+00  3.29696530e+00\n",
      "  1.17979563e+00  1.32180291e+00  3.36757968e+00 -2.71856897e+00\n",
      " -8.09349108e-01  1.05954110e+00  2.20959526e+00  1.82730196e+00\n",
      "  1.70255880e+00 -1.71600657e+00  4.39563583e+00 -2.18528678e+00\n",
      "  2.14852609e-01 -1.42197671e+00 -2.67660454e+00  3.54888865e+00\n",
      " -3.99474005e+00 -3.81185019e+00 -1.35654350e+00 -1.63774406e+00\n",
      " -4.68595488e+00 -1.50705916e+00 -2.66447977e+00  3.73355415e+00\n",
      "  4.56503572e+00  3.29734820e+00  2.38345267e+00 -4.95518941e+00\n",
      "  2.04389601e+00 -3.52697692e+00 -4.43073838e+00  4.17329610e+00\n",
      "  4.58048935e+00  2.88157616e+00  3.49895510e+00  6.93170569e-01\n",
      "  1.30966643e+00 -4.47728580e-01  4.88944712e+00 -1.87327490e+00\n",
      "  1.16865440e+00 -1.83450437e+00  3.34438397e+00  3.65031145e+00\n",
      "  4.61106605e+00 -2.14089459e+00  1.43767243e+00  2.03394281e+00\n",
      " -1.38012279e+00 -1.22747135e+00 -3.78659555e+00 -4.20386477e+00\n",
      " -9.99269209e-01  2.41269838e+00  3.47000283e+00 -1.58911136e+00\n",
      " -1.56516197e+00 -2.98853020e+00  8.09552172e-01  5.92402037e-01\n",
      " -2.68144359e+00 -2.66335390e-01 -2.45052534e+00 -4.77585244e+00\n",
      "  4.28218555e-03 -2.46311219e+00  1.83857764e+00 -3.70578209e+00\n",
      " -4.90540656e+00 -1.85394435e+00 -2.38959194e+00 -1.94518550e+00\n",
      "  1.51925416e+00 -4.93342860e+00 -3.36782603e+00  2.94650012e+00\n",
      " -6.78336193e-01 -2.63303836e+00 -3.62174599e+00  9.26745750e-01\n",
      " -4.87655267e+00 -2.89370284e+00  4.57716654e+00  4.18375501e+00\n",
      " -1.04975617e+00  4.94476613e-01  3.41291340e+00 -2.86780274e+00\n",
      "  4.96087757e+00 -4.97078380e+00  4.46315733e+00  4.84243466e+00\n",
      " -2.37150917e+00 -2.05762277e-01  2.91359418e+00 -3.43833406e+00\n",
      "  1.29760584e+00  3.87838080e+00 -1.11152230e-01 -2.65629072e+00\n",
      "  2.72458999e+00 -4.24399807e+00 -4.39662605e+00 -3.51579693e-01\n",
      "  8.68657773e-01  3.60694951e+00  3.76462611e-02 -5.44013716e-01\n",
      "  2.55652144e-01 -4.65959038e+00  3.11037362e+00 -7.48777602e-02\n",
      "  1.45071371e+00 -3.41094722e+00  3.98355787e+00  3.57237771e+00\n",
      "  3.32657842e+00  3.29417605e+00 -8.92098224e-01  3.29700025e+00]\n"
     ]
    }
   ],
   "source": [
    "## GA FINAL\n",
    "# Predict labels for train set and assess accuracy\n",
    "y_pred_train = nn_model1_ga.predict(x_train)\n",
    "train_res = metrics.classification_report(y_train, y_pred_train, output_dict = True)\n",
    "print({\"TRAIN\": train_res})\n",
    "print(\"\\n\")\n",
    "# Predict labels for test set and assess accuracy\n",
    "y_pred_test = nn_model1_ga.predict(x_test)\n",
    "\n",
    "test_res = metrics.classification_report(y_test, y_pred_test, output_dict = True)\n",
    "print({\"TEST\": test_res})\n",
    "\n",
    "print(\"LOSS FUNCTION\")\n",
    "print(nn_model1_ga.fitted_weights)\n"
   ]
  },
  {
   "cell_type": "code",
   "execution_count": null,
   "metadata": {},
   "outputs": [],
   "source": [
    "####TEST\n",
    "iter_nn_ga = []\n",
    "for n in range(100,200):\n",
    "    nn_model1_ga = mlrose.NeuralNetwork(hidden_nodes = [9,8], activation = 'relu', \\\n",
    "                                 algorithm = 'genetic_alg', max_iters = n, \\\n",
    "                                 bias = True, is_classifier = True, learning_rate = .01, \\\n",
    "                                 early_stopping = True, clip_max = 5, max_attempts = 10, \\\n",
    "                                 random_state = 1, pop_size=500)\n",
    "    nn_model1_ga.fit(x_train, y_train)\n",
    "    y_pred_train = nn_model1_ga.predict(x_train)\n",
    "    train_res = metrics.classification_report(y_train, y_pred_train, output_dict = True)\n",
    "    iter_nn_ga.append(train_res[\"weighted avg\"][\"f1-score\"])\n",
    "\n",
    "\n",
    "    "
   ]
  },
  {
   "cell_type": "code",
   "execution_count": null,
   "metadata": {},
   "outputs": [],
   "source": []
  }
 ],
 "metadata": {
  "kernelspec": {
   "display_name": "Python 3",
   "language": "python",
   "name": "python3"
  },
  "language_info": {
   "codemirror_mode": {
    "name": "ipython",
    "version": 3
   },
   "file_extension": ".py",
   "mimetype": "text/x-python",
   "name": "python",
   "nbconvert_exporter": "python",
   "pygments_lexer": "ipython3",
   "version": "3.7.4"
  }
 },
 "nbformat": 4,
 "nbformat_minor": 2
}
