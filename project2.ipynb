{
 "cells": [
  {
   "cell_type": "code",
   "execution_count": 11,
   "metadata": {},
   "outputs": [],
   "source": [
    "#### #Project 2#\n",
    "################\n",
    "\n",
    "import mlrose\n",
    "import numpy as np\n",
    "from numba import jit\n",
    "import time\n",
    "from tqdm.auto import tqdm\n",
    "from tqdm import trange\n",
    "\n",
    "import warnings\n",
    "import time\n",
    "\n",
    "warnings.filterwarnings('ignore')\n",
    "\n",
    "random_seed = False\n",
    "# np.random.seed(random_seed)\n",
    "\n",
    "\n",
    "def create101(size):\n",
    "    l = []\n",
    "    \n",
    "    for i in range(size):\n",
    "        l.append(i % 2)\n",
    "    \n",
    "    return l\n",
    "\n",
    "@jit\n",
    "def run_opt_rand_hc(max_min, max_val, ff_fitness, prob_size, amount_of_runs):\n",
    "    ff_problems = []\n",
    "    ##make array of FF problems\n",
    "    for n  in problem_size:\n",
    "        ff_problems.append(mlrose.DiscreteOpt(length = n, fitness_fn = ff_fitness, maximize = max_min, max_val = max_val))\n",
    "    \n",
    "    fitness_avg = []\n",
    "    for p in tqdm(ff_problems):\n",
    "        \n",
    "        total_fit = 0\n",
    "        count = 0\n",
    "        for run in range(0, amount_of_runs):\n",
    "            count = count + 1\n",
    "\n",
    "            best_state, best_fitness= mlrose.random_hill_climb(problem = p, max_iters=1000, random_state=random_seed, curve=False)\n",
    "            total_fit = total_fit + best_fitness\n",
    "        \n",
    "        fitness_avg.append((p.length, total_fit / count) )\n",
    "    \n",
    "    return fitness_avg\n",
    "\n",
    "\n",
    "def run_opt_rand_hc_state(max_min, max_val, ff_fitness, probs, amount_of_runs):\n",
    "    ff_problems = []\n",
    "    ##make array of FF problems\n",
    "    for n in probs:\n",
    "        ff_problems.append(mlrose.DiscreteOpt(length = len(n), fitness_fn = ff_fitness, maximize = max_min, max_val = max_val))\n",
    "    \n",
    "    fitness_avg = []\n",
    "    for p in tqdm(range(len(ff_problems))):\n",
    "        prob = ff_problems[p]\n",
    "        state = probs[p]\n",
    "        print(prob, state)\n",
    "        total_fit = 0\n",
    "        count = 0\n",
    "        for run in range(0, amount_of_runs):\n",
    "            count = count + 1\n",
    "\n",
    "            best_state, best_fitness= mlrose.random_hill_climb(problem = prob, max_iters=1000, random_state=random_seed, init_state=state)\n",
    "            total_fit = total_fit + best_fitness\n",
    "        \n",
    "        fitness_avg.append((prob.length, total_fit / count) )\n",
    "    \n",
    "    return fitness_avg\n",
    "\n",
    "@jit\n",
    "def run_opt_sim_anal(max_min, max_val, ff_fitness, prob_size, amount_of_runs):\n",
    "    ff_problems = []\n",
    "    ##make array of FF problems\n",
    "    for n  in problem_size:\n",
    "        ff_problems.append(mlrose.DiscreteOpt(length = n, fitness_fn = ff_fitness, maximize = max_min, max_val = max_val))\n",
    "    \n",
    "    fitness_avg = []\n",
    "    for p in tqdm(ff_problems):\n",
    "        \n",
    "        total_fit = 0\n",
    "        count = 0\n",
    "        for run in range(0, amount_of_runs):\n",
    "            count = count + 1\n",
    "\n",
    "            best_state, best_fitness = mlrose.simulated_annealing(problem = p,  max_iters=1000, random_state=random_seed)\n",
    "            total_fit = total_fit + best_fitness\n",
    "        \n",
    "        fitness_avg.append((p.length, total_fit / count) )\n",
    "    \n",
    "    return fitness_avg\n",
    "\n",
    "def run_opt_sim_anal_state(max_min, max_val, ff_fitness, probs, amount_of_runs):\n",
    "    ff_problems = []\n",
    "    ##make array of FF problems\n",
    "    for n in probs:\n",
    "        ff_problems.append(mlrose.DiscreteOpt(length = len(n), fitness_fn = ff_fitness, maximize = max_min, max_val = max_val))\n",
    "    \n",
    "    fitness_avg = []\n",
    "    for p in tqdm(range(len(ff_problems))):\n",
    "        prob = ff_problems[p]\n",
    "        state = probs[p]\n",
    "        print(prob, state)\n",
    "        total_fit = 0\n",
    "        count = 0\n",
    "        for run in range(0, amount_of_runs):\n",
    "            count = count + 1\n",
    "\n",
    "            best_state, best_fitness= mlrose.simulated_annealing(problem = prob,  max_iters=1000, random_state=random_seed, init_state=state)\n",
    "            total_fit = total_fit + best_fitness\n",
    "        \n",
    "        fitness_avg.append((prob.length, total_fit / count) )\n",
    "    \n",
    "    return fitness_avg\n",
    "\n",
    "@jit\n",
    "def run_opt_gen_alg(max_min, max_val, ff_fitness, pop_size, prob_size, amount_of_runs):\n",
    "    ff_problems = []\n",
    "    ##make array of FF problems\n",
    "    for n  in problem_size:\n",
    "        ff_problems.append(mlrose.DiscreteOpt(length = n, fitness_fn = ff_fitness, maximize = max_min, max_val = max_val))\n",
    "    \n",
    "    fitness_avg = []\n",
    "    for p in tqdm(ff_problems):\n",
    "        \n",
    "        total_fit = 0\n",
    "        count = 0\n",
    "        for run in range(0, amount_of_runs):\n",
    "            count = count + 1\n",
    "\n",
    "            best_state, best_fitness= mlrose.genetic_alg(pop_size=pop_size, problem = p, max_iters=1000, random_state=random_seed)\n",
    "            total_fit = total_fit + best_fitness\n",
    "        \n",
    "        fitness_avg.append((p.length, total_fit / count) )\n",
    "    \n",
    "    return fitness_avg\n",
    "\n",
    "def run_opt_gen_alg_state(max_min, max_val, ff_fitness, pop_size, probs, amount_of_runs):\n",
    "    ff_problems = []\n",
    "    ##make array of FF problems\n",
    "    for n in probs:\n",
    "        ff_problems.append(mlrose.DiscreteOpt(length = len(n), fitness_fn = ff_fitness, maximize = max_min, max_val = max_val))\n",
    "    \n",
    "    fitness_avg = []\n",
    "    for p in tqdm(range(len(ff_problems))):\n",
    "        prob = ff_problems[p]\n",
    "        state = probs[p]\n",
    "        print(prob, state)\n",
    "        total_fit = 0\n",
    "        count = 0\n",
    "        for run in range(0, amount_of_runs):\n",
    "            count = count + 1\n",
    "\n",
    "            best_state, best_fitness= mlrose.genetic_alg(pop_size=pop_size, problem = prob, max_iters=1000, random_state=random_seed, init_state=state)\n",
    "            total_fit = total_fit + best_fitness\n",
    "        \n",
    "        fitness_avg.append((prob.length, total_fit / count) )\n",
    "    \n",
    "    return fitness_avg\n",
    "\n",
    "@jit\n",
    "def run_opt_mimic(max_min, max_val, ff_fitness, pop_size, prob_size, amount_of_runs):\n",
    "    ff_problems = []\n",
    "    ##make array of FF problems\n",
    "    for n  in problem_size:\n",
    "        ff_problems.append(mlrose.DiscreteOpt(length = n, fitness_fn = ff_fitness, maximize = max_min, max_val = max_val))\n",
    "    \n",
    "    fitness_avg = []\n",
    "    for p in tqdm(ff_problems):\n",
    "        \n",
    "        total_fit = 0\n",
    "        count = 0\n",
    "        for run in range(0, amount_of_runs):\n",
    "            count = count + 1\n",
    "\n",
    "            best_state, best_fitness= mlrose.mimic(pop_size=pop_size, problem = p,  max_iters=1000, random_state=random_seed, fast_mimic=True)\n",
    "            total_fit = total_fit + best_fitness\n",
    "        \n",
    "        fitness_avg.append((p.length, total_fit / count) )\n",
    "    \n",
    "    return fitness_avg\n",
    "\n",
    "\n",
    "def run_opt_mimic_state(max_min, max_val, ff_fitness, pop_size, probs, amount_of_runs):\n",
    "    ff_problems = []\n",
    "    ##make array of FF problems\n",
    "    for n in probs:\n",
    "        ff_problems.append(mlrose.DiscreteOpt(len(n), fitness_fn = ff_fitness, maximize = max_min, max_val = max_val))\n",
    "    \n",
    "    fitness_avg = []\n",
    "    for p in tqdm(range(len(ff_problems))):\n",
    "        prob = ff_problems[p]\n",
    "        state = probs[p]\n",
    "        print(prob, state)\n",
    "        total_fit = 0\n",
    "        count = 0\n",
    "        for run in range(0, amount_of_runs):\n",
    "            count = count + 1\n",
    "\n",
    "            best_state, best_fitness= mlrose.mimic(pop_size=pop_size, problem = prob, max_iters=1000, random_state=random_seed, init_state=state, fast_mimic=True)\n",
    "            total_fit = total_fit + best_fitness\n",
    "        \n",
    "        fitness_avg.append((prob.length, total_fit / count) )\n",
    "    \n",
    "    return fitness_avg\n",
    "\n",
    "#######\n",
    "##TSM##\n",
    "#######\n",
    "def run_opt_rand_hc_tsm(cord_list, amount_of_runs):\n",
    "    ff_problems = []\n",
    "    ##make array of FF problems\n",
    "    cord = mlrose.TravellingSales(coords = cord_list)\n",
    "    prob = mlrose.TSPOpt(length = len(cord_list), fitness_fn = cord, maximize=False)\n",
    "    \n",
    "    fitness_avg = []\n",
    "\n",
    "        \n",
    "    total_fit = 0\n",
    "    count = 0\n",
    "    \n",
    "    for run in range(0, amount_of_runs):\n",
    "        count = count + 1\n",
    "\n",
    "        best_state, best_fitness= mlrose.random_hill_climb(problem = prob, max_iters=1000)\n",
    "        total_fit = total_fit + best_fitness\n",
    "\n",
    "    fitness_avg.append((1, total_fit / count) )\n",
    "    \n",
    "    return fitness_avg\n",
    "\n",
    "def run_opt_sim_anal_tsm(cord_list, amount_of_runs):\n",
    "    ff_problems = []\n",
    "    ##make array of FF problems\n",
    "    cord = mlrose.TravellingSales(coords = cord_list)\n",
    "    prob = mlrose.TSPOpt(length = len(cord_list), fitness_fn = cord, maximize=False)\n",
    "    \n",
    "    fitness_avg = []\n",
    "\n",
    "        \n",
    "    total_fit = 0\n",
    "    count = 0\n",
    "    for run in range(0, amount_of_runs):\n",
    "        count = count + 1\n",
    "\n",
    "        best_state, best_fitness= mlrose.simulated_annealing(problem = prob,  max_iters=1000)\n",
    "        total_fit = total_fit + best_fitness\n",
    "\n",
    "    fitness_avg.append((1, total_fit / count) )\n",
    "    \n",
    "    return fitness_avg\n",
    "\n",
    "def run_opt_gen_alg_tsm(cord_list, pop_size, amount_of_runs):\n",
    "    ff_problems = []\n",
    "    ##make array of FF problems\n",
    "    cord = mlrose.TravellingSales(coords = cord_list)\n",
    "    prob = mlrose.TSPOpt(length = len(cord_list), fitness_fn = cord, maximize=False)\n",
    "    \n",
    "    fitness_avg = []\n",
    "\n",
    "        \n",
    "    total_fit = 0\n",
    "    count = 0\n",
    "    for run in range(0, amount_of_runs):\n",
    "        count = count + 1\n",
    "\n",
    "        best_state, best_fitness= mlrose.genetic_alg(pop_size=pop_size, problem = prob, max_iters=1000)\n",
    "        total_fit = total_fit + best_fitness\n",
    "\n",
    "    fitness_avg.append((1, total_fit / count) )\n",
    "    \n",
    "    return fitness_avg\n",
    "\n",
    "\n",
    "def run_opt_mimic_tsm(cord_list, pop_size, amount_of_runs):\n",
    "    ff_problems = []\n",
    "    ##make array of FF problems\n",
    "    cord = mlrose.TravellingSales(coords = cord_list)\n",
    "    prob = mlrose.TSPOpt(length = len(cord_list), fitness_fn = cord, maximize=False)\n",
    "    \n",
    "    fitness_avg = []\n",
    "\n",
    "        \n",
    "    total_fit = 0\n",
    "    count = 0\n",
    "    for run in range(0, amount_of_runs):\n",
    "        count = count + 1\n",
    "\n",
    "        best_state, best_fitness= mlrose.mimic(pop_size=pop_size, problem = prob,  max_iters=1000, fast_mimic=True)\n",
    "        total_fit = total_fit + best_fitness\n",
    "\n",
    "    fitness_avg.append((1, total_fit / count) )\n",
    "    \n",
    "    return fitness_avg\n",
    "\n"
   ]
  },
  {
   "cell_type": "code",
   "execution_count": 72,
   "metadata": {
    "scrolled": false
   },
   "outputs": [
    {
     "data": {
      "application/vnd.jupyter.widget-view+json": {
       "model_id": "9a6bf6244a1d41aeabf7b478b06d4e67",
       "version_major": 2,
       "version_minor": 0
      },
      "text/plain": [
       "HBox(children=(IntProgress(value=0, max=3), HTML(value='')))"
      ]
     },
     "metadata": {},
     "output_type": "display_data"
    },
    {
     "name": "stdout",
     "output_type": "stream",
     "text": [
      "<mlrose.opt_probs.DiscreteOpt object at 0x11f4c9850> [1, 1, 0, 1, 1, 1, 0, 1]\n",
      "<mlrose.opt_probs.DiscreteOpt object at 0x11f4c9550> [1, 1, 0, 1, 1, 1, 0, 1, 1, 1, 0, 1, 1, 1, 0, 1, 1, 1, 0, 1, 1, 1, 0, 1, 1, 1, 0, 1, 1, 1, 0, 1]\n",
      "<mlrose.opt_probs.DiscreteOpt object at 0x11f4c9d10> [1, 1, 0, 1, 1, 1, 0, 1, 1, 1, 0, 1, 1, 1, 0, 1, 1, 1, 0, 1, 1, 1, 0, 1, 1, 1, 0, 1, 1, 1, 0, 1, 1, 1, 0, 1, 1, 1, 0, 1, 1, 1, 0, 1, 1, 1, 0, 1, 1, 1, 0, 1, 1, 1, 0, 1, 1, 1, 0, 1, 1, 1, 0, 1]\n",
      "\n",
      "[(8, 7.0), (32, 24.2), (64, 43.0)]\n"
     ]
    },
    {
     "data": {
      "application/vnd.jupyter.widget-view+json": {
       "model_id": "273f97355d6b4923a8ff06c0ba7cd156",
       "version_major": 2,
       "version_minor": 0
      },
      "text/plain": [
       "HBox(children=(IntProgress(value=0, max=3), HTML(value='')))"
      ]
     },
     "metadata": {},
     "output_type": "display_data"
    },
    {
     "name": "stdout",
     "output_type": "stream",
     "text": [
      "<mlrose.opt_probs.DiscreteOpt object at 0x11f503390> [1, 1, 0, 1, 1, 1, 0, 1]\n",
      "<mlrose.opt_probs.DiscreteOpt object at 0x11f503050> [1, 1, 0, 1, 1, 1, 0, 1, 1, 1, 0, 1, 1, 1, 0, 1, 1, 1, 0, 1, 1, 1, 0, 1, 1, 1, 0, 1, 1, 1, 0, 1]\n",
      "<mlrose.opt_probs.DiscreteOpt object at 0x11f503350> [1, 1, 0, 1, 1, 1, 0, 1, 1, 1, 0, 1, 1, 1, 0, 1, 1, 1, 0, 1, 1, 1, 0, 1, 1, 1, 0, 1, 1, 1, 0, 1, 1, 1, 0, 1, 1, 1, 0, 1, 1, 1, 0, 1, 1, 1, 0, 1, 1, 1, 0, 1, 1, 1, 0, 1, 1, 1, 0, 1, 1, 1, 0, 1]\n",
      "\n",
      "[(8, 6.6), (32, 26.4), (64, 53.0)]\n"
     ]
    },
    {
     "data": {
      "application/vnd.jupyter.widget-view+json": {
       "model_id": "5755bb72a0214989ad5274af5ef3714b",
       "version_major": 2,
       "version_minor": 0
      },
      "text/plain": [
       "HBox(children=(IntProgress(value=0, max=3), HTML(value='')))"
      ]
     },
     "metadata": {},
     "output_type": "display_data"
    },
    {
     "name": "stdout",
     "output_type": "stream",
     "text": [
      "<mlrose.opt_probs.DiscreteOpt object at 0x11f503e50> [1, 1, 0, 1, 1, 1, 0, 1]\n",
      "<mlrose.opt_probs.DiscreteOpt object at 0x11f503b50> [1, 1, 0, 1, 1, 1, 0, 1, 1, 1, 0, 1, 1, 1, 0, 1, 1, 1, 0, 1, 1, 1, 0, 1, 1, 1, 0, 1, 1, 1, 0, 1]\n",
      "<mlrose.opt_probs.DiscreteOpt object at 0x11f5031d0> [1, 1, 0, 1, 1, 1, 0, 1, 1, 1, 0, 1, 1, 1, 0, 1, 1, 1, 0, 1, 1, 1, 0, 1, 1, 1, 0, 1, 1, 1, 0, 1, 1, 1, 0, 1, 1, 1, 0, 1, 1, 1, 0, 1, 1, 1, 0, 1, 1, 1, 0, 1, 1, 1, 0, 1, 1, 1, 0, 1, 1, 1, 0, 1]\n",
      "\n",
      "[(8, 7.0), (32, 24.8), (64, 45.0)]\n"
     ]
    },
    {
     "data": {
      "application/vnd.jupyter.widget-view+json": {
       "model_id": "0104f286fcc7467cb266d0af0c5a545e",
       "version_major": 2,
       "version_minor": 0
      },
      "text/plain": [
       "HBox(children=(IntProgress(value=0, max=3), HTML(value='')))"
      ]
     },
     "metadata": {},
     "output_type": "display_data"
    },
    {
     "name": "stdout",
     "output_type": "stream",
     "text": [
      "<mlrose.opt_probs.DiscreteOpt object at 0x11f5031d0> [1, 1, 0, 1, 1, 1, 0, 1]\n",
      "<mlrose.opt_probs.DiscreteOpt object at 0x11f503810> [1, 1, 0, 1, 1, 1, 0, 1, 1, 1, 0, 1, 1, 1, 0, 1, 1, 1, 0, 1, 1, 1, 0, 1, 1, 1, 0, 1, 1, 1, 0, 1]\n",
      "<mlrose.opt_probs.DiscreteOpt object at 0x11f503d10> [1, 1, 0, 1, 1, 1, 0, 1, 1, 1, 0, 1, 1, 1, 0, 1, 1, 1, 0, 1, 1, 1, 0, 1, 1, 1, 0, 1, 1, 1, 0, 1, 1, 1, 0, 1, 1, 1, 0, 1, 1, 1, 0, 1, 1, 1, 0, 1, 1, 1, 0, 1, 1, 1, 0, 1, 1, 1, 0, 1, 1, 1, 0, 1]\n",
      "\n",
      "[(8, 7.0), (32, 28.0), (64, 53.6)]\n"
     ]
    }
   ],
   "source": [
    "## You must implement four local random search algorithms. They are:\n",
    "\n",
    "#     randomized hill climbing\n",
    "#     simulated annealing\n",
    "#     a genetic algorithm\n",
    "#     MIMIC\n",
    "\n",
    "##PROBLEMS \n",
    "## 1. Flip Flop\n",
    "## 2. KnapSack\n",
    "## 3. MaxKColor\n",
    "problem_size = [4, 32, 64]\n",
    "amount_of_runs = 5\n",
    "\n",
    "# easy = create101(8)\n",
    "# med = create101(32)\n",
    "# hard = create101(128)\n",
    "\n",
    "easy = [1,1,0,1] * 2\n",
    "med = [1,1,0,1] * 8\n",
    "hard = [1,1,0,1] * 16\n",
    "\n",
    "probs = [easy, med, hard]\n",
    "\n",
    "ff_fitness = mlrose.FlipFlop()\n",
    "\n",
    "res = run_opt_rand_hc_state(True, 2, ff_fitness, probs, amount_of_runs)\n",
    "print(res)\n",
    "\n",
    "res = run_opt_sim_anal_state(True, 2, ff_fitness, probs, amount_of_runs)\n",
    "print(res)\n",
    "\n",
    "#(max_val, ff_fitness, pop_size, prob_size, amount_of_runs\n",
    "res = run_opt_gen_alg_state(True, 2, ff_fitness, 100, probs, amount_of_runs)\n",
    "print(res)\n",
    "\n",
    "res = run_opt_mimic_state(True, 2, ff_fitness, 100 ,probs, amount_of_runs)\n",
    "print(res)\n",
    "\n",
    "\n",
    "# res = run_opt_mimic(2, ff_fitness, 50, probs, amount_of_runs)\n",
    "# print(res)\n",
    "##make array of FF problems\n",
    "# for n  in problem_size:\n",
    "#     ff_problems.append(mlrose.DiscreteOpt(length = n, fitness_fn = ff_fitness, maximize = False, max_val = 2))\n",
    "\n",
    "\n",
    "\n",
    "# ####RUN RANDOM HILL CLIMB, AND AVERAGE OVER 100 runs, OVER different problem sizes\n",
    "\n",
    "# for p in ff_problems:\n",
    "#     best_state, best_fitness, curve = mlrose.random_hill_climb(problem = p, curve=True)\n",
    "#     print(\"HILL CLIMB\")\n",
    "#     print(best_state, best_fitness)\n",
    "#     print(curve)\n",
    "#     print(\"HILL CLIMB END \\n\\n\")\n",
    "\n",
    "#simulated_annealing(problem, schedule=<mlrose.decay.GeomDecay object>, max_attempts=10, max_iters=inf, init_state=None, curve=False, random_state=None)\n",
    "# best_state, best_fitness, curve = mlrose.simulated_annealing(problem = ff_problem, curve=True)\n",
    "# print(\"SIMULATED ANNEALING\")\n",
    "# print(best_state, best_fitness)\n",
    "# print(curve)\n",
    "# print(\"SIMULATED ANNEALING END \\n\\n\")\n",
    "#genetic_alg(problem, pop_size=200, mutation_prob=0.1, max_attempts=10, max_iters=inf, curve=False, random_state=None)\n",
    "# best_state, best_fitness, curve = mlrose.genetic_alg(pop_size=200, problem = ff_problem, curve=True)\n",
    "# print(\"GENETIC ALG\")\n",
    "# print(best_state, best_fitness)\n",
    "# print(curve)\n",
    "# print(\"GENETIC ALG END \\n\\n\")\n",
    "\n",
    "# def mimic(problem, pop_size=200, keep_pct=0.2, max_attempts=10,\n",
    "# max_iters=np.inf, curve=False, random_state=None):\n"
   ]
  },
  {
   "cell_type": "code",
   "execution_count": 49,
   "metadata": {},
   "outputs": [
    {
     "data": {
      "application/vnd.jupyter.widget-view+json": {
       "model_id": "ad3493a110284b7aa4372c004fe07083",
       "version_major": 2,
       "version_minor": 0
      },
      "text/plain": [
       "HBox(children=(IntProgress(value=0, max=3), HTML(value='')))"
      ]
     },
     "metadata": {},
     "output_type": "display_data"
    },
    {
     "name": "stdout",
     "output_type": "stream",
     "text": [
      "<mlrose.opt_probs.DiscreteOpt object at 0x102a7f890> [0, 1, 0, 1, 0, 1, 0, 1]\n",
      "<mlrose.opt_probs.DiscreteOpt object at 0x102a7f210> [0, 1, 0, 1, 0, 1, 0, 1, 0, 1, 0, 1, 0, 1, 0, 1, 0, 1, 0, 1, 0, 1, 0, 1, 0, 1, 0, 1, 0, 1, 0, 1]\n",
      "<mlrose.opt_probs.DiscreteOpt object at 0x11f169390> [0, 1, 0, 1, 0, 1, 0, 1, 0, 1, 0, 1, 0, 1, 0, 1, 0, 1, 0, 1, 0, 1, 0, 1, 0, 1, 0, 1, 0, 1, 0, 1, 0, 1, 0, 1, 0, 1, 0, 1, 0, 1, 0, 1, 0, 1, 0, 1, 0, 1, 0, 1, 0, 1, 0, 1, 0, 1, 0, 1, 0, 1, 0, 1]\n",
      "\n",
      "[(8, 6.0), (32, 0.8), (64, 0.0)]\n"
     ]
    },
    {
     "data": {
      "application/vnd.jupyter.widget-view+json": {
       "model_id": "efaaa97e4cdb4114aa8daaad25fee117",
       "version_major": 2,
       "version_minor": 0
      },
      "text/plain": [
       "HBox(children=(IntProgress(value=0, max=3), HTML(value='')))"
      ]
     },
     "metadata": {},
     "output_type": "display_data"
    },
    {
     "name": "stdout",
     "output_type": "stream",
     "text": [
      "<mlrose.opt_probs.DiscreteOpt object at 0x103deb210> [0, 1, 0, 1, 0, 1, 0, 1]\n",
      "<mlrose.opt_probs.DiscreteOpt object at 0x103deb250> [0, 1, 0, 1, 0, 1, 0, 1, 0, 1, 0, 1, 0, 1, 0, 1, 0, 1, 0, 1, 0, 1, 0, 1, 0, 1, 0, 1, 0, 1, 0, 1]\n",
      "<mlrose.opt_probs.DiscreteOpt object at 0x103deb290> [0, 1, 0, 1, 0, 1, 0, 1, 0, 1, 0, 1, 0, 1, 0, 1, 0, 1, 0, 1, 0, 1, 0, 1, 0, 1, 0, 1, 0, 1, 0, 1, 0, 1, 0, 1, 0, 1, 0, 1, 0, 1, 0, 1, 0, 1, 0, 1, 0, 1, 0, 1, 0, 1, 0, 1, 0, 1, 0, 1, 0, 1, 0, 1]\n",
      "\n",
      "[(8, 11.0), (32, 47.6), (64, 31.6)]\n"
     ]
    },
    {
     "data": {
      "application/vnd.jupyter.widget-view+json": {
       "model_id": "25d707abc4c94006ba8c89d8859daa03",
       "version_major": 2,
       "version_minor": 0
      },
      "text/plain": [
       "HBox(children=(IntProgress(value=0, max=3), HTML(value='')))"
      ]
     },
     "metadata": {},
     "output_type": "display_data"
    },
    {
     "name": "stdout",
     "output_type": "stream",
     "text": [
      "<mlrose.opt_probs.DiscreteOpt object at 0x103deb250> [0, 1, 0, 1, 0, 1, 0, 1]\n",
      "<mlrose.opt_probs.DiscreteOpt object at 0x103deb050> [0, 1, 0, 1, 0, 1, 0, 1, 0, 1, 0, 1, 0, 1, 0, 1, 0, 1, 0, 1, 0, 1, 0, 1, 0, 1, 0, 1, 0, 1, 0, 1]\n",
      "<mlrose.opt_probs.DiscreteOpt object at 0x103debf90> [0, 1, 0, 1, 0, 1, 0, 1, 0, 1, 0, 1, 0, 1, 0, 1, 0, 1, 0, 1, 0, 1, 0, 1, 0, 1, 0, 1, 0, 1, 0, 1, 0, 1, 0, 1, 0, 1, 0, 1, 0, 1, 0, 1, 0, 1, 0, 1, 0, 1, 0, 1, 0, 1, 0, 1, 0, 1, 0, 1, 0, 1, 0, 1]\n",
      "\n",
      "[(8, 13.0), (32, 50.2), (64, 79.8)]\n"
     ]
    },
    {
     "data": {
      "application/vnd.jupyter.widget-view+json": {
       "model_id": "38b4b68518704827a568c73d951ad536",
       "version_major": 2,
       "version_minor": 0
      },
      "text/plain": [
       "HBox(children=(IntProgress(value=0, max=3), HTML(value='')))"
      ]
     },
     "metadata": {},
     "output_type": "display_data"
    },
    {
     "name": "stdout",
     "output_type": "stream",
     "text": [
      "<mlrose.opt_probs.DiscreteOpt object at 0x11f1c95d0> [0, 1, 0, 1, 0, 1, 0, 1]\n",
      "<mlrose.opt_probs.DiscreteOpt object at 0x102a79790> [0, 1, 0, 1, 0, 1, 0, 1, 0, 1, 0, 1, 0, 1, 0, 1, 0, 1, 0, 1, 0, 1, 0, 1, 0, 1, 0, 1, 0, 1, 0, 1]\n",
      "<mlrose.opt_probs.DiscreteOpt object at 0x103debfd0> [0, 1, 0, 1, 0, 1, 0, 1, 0, 1, 0, 1, 0, 1, 0, 1, 0, 1, 0, 1, 0, 1, 0, 1, 0, 1, 0, 1, 0, 1, 0, 1, 0, 1, 0, 1, 0, 1, 0, 1, 0, 1, 0, 1, 0, 1, 0, 1, 0, 1, 0, 1, 0, 1, 0, 1, 0, 1, 0, 1, 0, 1, 0, 1]\n",
      "\n",
      "[(8, 13.0), (32, 57.0), (64, 95.2)]\n"
     ]
    }
   ],
   "source": [
    "###SIX PEAKS\n",
    "problem_size = [4, 32, 64]\n",
    "amount_of_runs = 5\n",
    "\n",
    "easy = create101(8)\n",
    "med = create101(32)\n",
    "hard = create101(64)\n",
    "\n",
    "\n",
    "# easy = [0] * 8\n",
    "# med = [0] * 32\n",
    "# hard = [0] * 128\n",
    "\n",
    "probs = [easy, med, hard]\n",
    "\n",
    "ff_fitness = mlrose.SixPeaks(t_pct=0.15)\n",
    "\n",
    "res = run_opt_rand_hc_state(True, 2, ff_fitness, probs, amount_of_runs)\n",
    "print(res)\n",
    "\n",
    "res = run_opt_sim_anal_state(True, 2, ff_fitness, probs, amount_of_runs)\n",
    "print(res)\n",
    "\n",
    "#(max_val, ff_fitness, pop_size, prob_size, amount_of_runs\n",
    "res = run_opt_gen_alg_state(True, 2, ff_fitness, 750, probs, amount_of_runs)\n",
    "print(res)\n",
    "\n",
    "res = run_opt_mimic_state(True, 2, ff_fitness, 750 ,probs, amount_of_runs)\n",
    "print(res)\n"
   ]
  },
  {
   "cell_type": "code",
   "execution_count": 112,
   "metadata": {},
   "outputs": [
    {
     "name": "stdout",
     "output_type": "stream",
     "text": [
      "0.044631000000663335 seconds\n",
      "[(1, 42.44807901514129)]\n",
      "[(1, 1979.658413987913)]\n",
      "\n",
      "\n",
      "0.03336200000012468 seconds\n",
      "[(1, 43.919968830406674)]\n",
      "[(1, 2261.123773301234)]\n",
      "\n",
      "\n",
      "4.897934999999961 seconds\n",
      "[(1, 42.44807901514129)]\n",
      "[(1, 1835.4479782797832)]\n",
      "\n",
      "\n",
      "8.01071200000024 seconds\n",
      "[(1, 42.44807901514129)]\n",
      "[(1, 1866.086376461726)]\n"
     ]
    }
   ],
   "source": [
    "## TSM\n",
    "\n",
    "# Create list of city coordinates\n",
    "simple_coords_list = [(1, 1), (2, 2), (-8, 8), (1,-1), (-1,-4), (7, 6)]\n",
    "complex_cords_list = [(1,2),(1,102),(3,56),(50,50),(500,176),(1,1),(250,25),(25,1),(102,512),(512,102)]\n",
    "\n",
    "# Initialize fitness function object using coords_list\n",
    "# fitness_coords = mlrose.TravellingSales(coords = simple_coords_list)\n",
    "# prob = mlrose.TSPOpt(length = 4, fitness_fn = fitness_coords, maximize=False)\n",
    "amount_of_runs = 5\n",
    "\n",
    "res = run_opt_rand_hc_tsm(simple_coords_list, amount_of_runs)\n",
    "start_time = time.clock()\n",
    "res2 = run_opt_rand_hc_tsm(complex_cords_list, amount_of_runs)\n",
    "print(time.clock() - start_time, \"seconds\")\n",
    "print(res)\n",
    "print(res2)\n",
    "print(\"\\n\")\n",
    "\n",
    "res = run_opt_sim_anal_tsm(simple_coords_list, amount_of_runs)\n",
    "start_time = time.clock()\n",
    "res2 = run_opt_sim_anal_tsm(complex_cords_list, amount_of_runs)\n",
    "print(time.clock() - start_time, \"seconds\")\n",
    "print(res)\n",
    "print(res2)\n",
    "print(\"\\n\")\n",
    "\n",
    "res = run_opt_gen_alg_tsm(simple_coords_list, 200, amount_of_runs)\n",
    "start_time = time.clock()\n",
    "res2 = run_opt_gen_alg_tsm(complex_cords_list, 200, amount_of_runs)\n",
    "print(time.clock() - start_time, \"seconds\")\n",
    "print(res)\n",
    "print(res2)\n",
    "print(\"\\n\")\n",
    "\n",
    "res = run_opt_mimic_tsm(simple_coords_list, 200, amount_of_runs)\n",
    "start_time = time.clock()\n",
    "res2 = run_opt_mimic_tsm(complex_cords_list, 150, amount_of_runs)\n",
    "print(time.clock() - start_time, \"seconds\")\n",
    "print(res)\n",
    "print(res2)\n"
   ]
  },
  {
   "cell_type": "code",
   "execution_count": 102,
   "metadata": {},
   "outputs": [
    {
     "data": {
      "text/plain": [
       "3"
      ]
     },
     "execution_count": 102,
     "metadata": {},
     "output_type": "execute_result"
    }
   ],
   "source": [
    "\n",
    "fitness = mlrose.SixPeaks(.15)\n",
    "state = np.array([0,0,0,1,0,1,0,1,0,0,0])\n",
    "fitness.evaluate(state)\n"
   ]
  },
  {
   "cell_type": "code",
   "execution_count": null,
   "metadata": {},
   "outputs": [],
   "source": []
  }
 ],
 "metadata": {
  "kernelspec": {
   "display_name": "Python 3",
   "language": "python",
   "name": "python3"
  },
  "language_info": {
   "codemirror_mode": {
    "name": "ipython",
    "version": 3
   },
   "file_extension": ".py",
   "mimetype": "text/x-python",
   "name": "python",
   "nbconvert_exporter": "python",
   "pygments_lexer": "ipython3",
   "version": "3.7.4"
  }
 },
 "nbformat": 4,
 "nbformat_minor": 2
}
