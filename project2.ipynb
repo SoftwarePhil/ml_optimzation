{
 "cells": [
  {
   "cell_type": "code",
   "execution_count": 11,
   "metadata": {},
   "outputs": [],
   "source": [
    "#### #Project 2#\n",
    "################\n",
    "\n",
    "import mlrose\n",
    "import numpy as np\n",
    "from numba import jit\n",
    "import time\n",
    "from tqdm.auto import tqdm\n",
    "from tqdm import trange\n",
    "\n",
    "import warnings\n",
    "warnings.filterwarnings('ignore')\n",
    "\n",
    "# random_seed = 420\n",
    "# np.random.seed(random_seed)\n",
    "\n",
    "@jit\n",
    "def run_opt_rand_hc(max_val, ff_fitness, prob_size, amount_of_runs):\n",
    "    ff_problems = []\n",
    "    ##make array of FF problems\n",
    "    for n  in problem_size:\n",
    "        ff_problems.append(mlrose.DiscreteOpt(length = n, fitness_fn = ff_fitness, maximize = False, max_val = max_val))\n",
    "    \n",
    "    fitness_avg = []\n",
    "    for p in tqdm(ff_problems):\n",
    "        \n",
    "        total_fit = 0\n",
    "        count = 0\n",
    "        for run in range(0, amount_of_runs):\n",
    "            count = count + 1\n",
    "\n",
    "            best_state, best_fitness = mlrose.random_hill_climb(problem = p, max_iters=1000)\n",
    "            total_fit = total_fit + best_fitness\n",
    "        \n",
    "        fitness_avg.append((p.length, total_fit / count) )\n",
    "    \n",
    "    return fitness_avg\n",
    "\n",
    "@jit\n",
    "def run_opt_sim_anal(max_val, ff_fitness, prob_size, amount_of_runs):\n",
    "    ff_problems = []\n",
    "    ##make array of FF problems\n",
    "    for n  in problem_size:\n",
    "        ff_problems.append(mlrose.DiscreteOpt(length = n, fitness_fn = ff_fitness, maximize = False, max_val = max_val))\n",
    "    \n",
    "    fitness_avg = []\n",
    "    for p in tqdm(ff_problems):\n",
    "        \n",
    "        total_fit = 0\n",
    "        count = 0\n",
    "        for run in range(0, amount_of_runs):\n",
    "            count = count + 1\n",
    "\n",
    "            best_state, best_fitness = mlrose.simulated_annealing(problem = p,  max_iters=1000)\n",
    "            total_fit = total_fit + best_fitness\n",
    "        \n",
    "        fitness_avg.append((p.length, total_fit / count) )\n",
    "    \n",
    "    return fitness_avg\n",
    "\n",
    "@jit\n",
    "def run_opt_gen_alg(max_val, ff_fitness, pop_size, prob_size, amount_of_runs):\n",
    "    ff_problems = []\n",
    "    ##make array of FF problems\n",
    "    for n  in problem_size:\n",
    "        ff_problems.append(mlrose.DiscreteOpt(length = n, fitness_fn = ff_fitness, maximize = False, max_val = max_val))\n",
    "    \n",
    "    fitness_avg = []\n",
    "    for p in tqdm(ff_problems):\n",
    "        \n",
    "        total_fit = 0\n",
    "        count = 0\n",
    "        for run in range(0, amount_of_runs):\n",
    "            count = count + 1\n",
    "\n",
    "            best_state, best_fitness = mlrose.genetic_alg(pop_size=pop_size, problem = p, max_iters=1000)\n",
    "            total_fit = total_fit + best_fitness\n",
    "        \n",
    "        fitness_avg.append((p.length, total_fit / count) )\n",
    "    \n",
    "    return fitness_avg\n",
    "\n",
    "@jit\n",
    "def run_opt_mimic(max_val, ff_fitness, pop_size, prob_size, amount_of_runs):\n",
    "    ff_problems = []\n",
    "    ##make array of FF problems\n",
    "    for n  in problem_size:\n",
    "        ff_problems.append(mlrose.DiscreteOpt(length = n, fitness_fn = ff_fitness, maximize = False, max_val = max_val))\n",
    "    \n",
    "    fitness_avg = []\n",
    "    for p in tqdm(ff_problems):\n",
    "        \n",
    "        total_fit = 0\n",
    "        count = 0\n",
    "        for run in range(0, amount_of_runs):\n",
    "            count = count + 1\n",
    "\n",
    "            best_state, best_fitness = mlrose.mimic(pop_size=pop_size, problem = p,  max_iters=1000)\n",
    "            total_fit = total_fit + best_fitness\n",
    "        \n",
    "        fitness_avg.append((p.length, total_fit / count) )\n",
    "    \n",
    "    return fitness_avg\n",
    "\n",
    "\n"
   ]
  },
  {
   "cell_type": "code",
   "execution_count": 7,
   "metadata": {},
   "outputs": [
    {
     "data": {
      "application/vnd.jupyter.widget-view+json": {
       "model_id": "89e067f4b1ab40f99ff487cb2778155b",
       "version_major": 2,
       "version_minor": 0
      },
      "text/plain": [
       "HBox(children=(IntProgress(value=0, max=7), HTML(value='')))"
      ]
     },
     "metadata": {},
     "output_type": "display_data"
    },
    {
     "name": "stdout",
     "output_type": "stream",
     "text": [
      "\n",
      "[(2, 0.0), (4, 0.0), (8, 2.0), (16, 6.0), (32, 5.0), (64, 21.0), (128, 60.0)]\n"
     ]
    },
    {
     "data": {
      "application/vnd.jupyter.widget-view+json": {
       "model_id": "000b366bfc85430cb211a9ad0411d4f6",
       "version_major": 2,
       "version_minor": 0
      },
      "text/plain": [
       "HBox(children=(IntProgress(value=0, max=7), HTML(value='')))"
      ]
     },
     "metadata": {},
     "output_type": "display_data"
    },
    {
     "name": "stdout",
     "output_type": "stream",
     "text": [
      "\n",
      "[(2, 0.0), (4, 0.0), (8, 1.0), (16, 2.0), (32, 8.0), (64, 12.0), (128, 19.0)]\n"
     ]
    },
    {
     "data": {
      "application/vnd.jupyter.widget-view+json": {
       "model_id": "e6592607ba1146c8b4062cdb03bada9b",
       "version_major": 2,
       "version_minor": 0
      },
      "text/plain": [
       "HBox(children=(IntProgress(value=0, max=7), HTML(value='')))"
      ]
     },
     "metadata": {},
     "output_type": "display_data"
    },
    {
     "name": "stdout",
     "output_type": "stream",
     "text": [
      "\n",
      "[(2, 0.0), (4, 0.0), (8, 1.0), (16, 3.0), (32, 8.0), (64, 20.0), (128, 47.0)]\n"
     ]
    },
    {
     "data": {
      "application/vnd.jupyter.widget-view+json": {
       "model_id": "8c2f7ad38f1e4fe8a18460e837881e3a",
       "version_major": 2,
       "version_minor": 0
      },
      "text/plain": [
       "HBox(children=(IntProgress(value=0, max=7), HTML(value='')))"
      ]
     },
     "metadata": {},
     "output_type": "display_data"
    },
    {
     "name": "stdout",
     "output_type": "stream",
     "text": [
      "\n",
      "[(2, 0.0), (4, 0.0), (8, 2.0), (16, 4.0), (32, 11.0), (64, 24.0), (128, 48.0)]\n"
     ]
    }
   ],
   "source": [
    "## You must implement four local random search algorithms. They are:\n",
    "\n",
    "#     randomized hill climbing\n",
    "#     simulated annealing\n",
    "#     a genetic algorithm\n",
    "#     MIMIC\n",
    "\n",
    "##PROBLEMS \n",
    "## 1. Flip Flop\n",
    "## 2. KnapSack\n",
    "## 3. MaxKColor\n",
    "problem_size = [2, 4, 8, 16, 32, 64, 128]\n",
    "amount_of_runs = 1\n",
    "\n",
    "ff_fitness = mlrose.FlipFlop()\n",
    "\n",
    "res = run_opt_rand_hc(2, ff_fitness, problem_size, amount_of_runs)\n",
    "print(res)\n",
    "\n",
    "res = run_opt_sim_anal(2, ff_fitness, problem_size, amount_of_runs)\n",
    "print(res)\n",
    "\n",
    "res = run_opt_gen_alg(2, ff_fitness, 50, problem_size, amount_of_runs)\n",
    "print(res)\n",
    "\n",
    "res = run_opt_mimic(2, ff_fitness, 50, problem_size, amount_of_runs)\n",
    "print(res)\n",
    "##make array of FF problems\n",
    "# for n  in problem_size:\n",
    "#     ff_problems.append(mlrose.DiscreteOpt(length = n, fitness_fn = ff_fitness, maximize = False, max_val = 2))\n",
    "\n",
    "\n",
    "\n",
    "# ####RUN RANDOM HILL CLIMB, AND AVERAGE OVER 100 runs, OVER different problem sizes\n",
    "\n",
    "# for p in ff_problems:\n",
    "#     best_state, best_fitness, curve = mlrose.random_hill_climb(problem = p, curve=True)\n",
    "#     print(\"HILL CLIMB\")\n",
    "#     print(best_state, best_fitness)\n",
    "#     print(curve)\n",
    "#     print(\"HILL CLIMB END \\n\\n\")\n",
    "\n",
    "#simulated_annealing(problem, schedule=<mlrose.decay.GeomDecay object>, max_attempts=10, max_iters=inf, init_state=None, curve=False, random_state=None)\n",
    "# best_state, best_fitness, curve = mlrose.simulated_annealing(problem = ff_problem, curve=True)\n",
    "# print(\"SIMULATED ANNEALING\")\n",
    "# print(best_state, best_fitness)\n",
    "# print(curve)\n",
    "# print(\"SIMULATED ANNEALING END \\n\\n\")\n",
    "#genetic_alg(problem, pop_size=200, mutation_prob=0.1, max_attempts=10, max_iters=inf, curve=False, random_state=None)\n",
    "# best_state, best_fitness, curve = mlrose.genetic_alg(pop_size=200, problem = ff_problem, curve=True)\n",
    "# print(\"GENETIC ALG\")\n",
    "# print(best_state, best_fitness)\n",
    "# print(curve)\n",
    "# print(\"GENETIC ALG END \\n\\n\")\n",
    "\n",
    "# def mimic(problem, pop_size=200, keep_pct=0.2, max_attempts=10,\n",
    "# max_iters=np.inf, curve=False, random_state=None):\n"
   ]
  },
  {
   "cell_type": "code",
   "execution_count": 12,
   "metadata": {},
   "outputs": [
    {
     "data": {
      "application/vnd.jupyter.widget-view+json": {
       "model_id": "b079eb17511446a6840b1673a8995432",
       "version_major": 2,
       "version_minor": 0
      },
      "text/plain": [
       "HBox(children=(IntProgress(value=0, max=5), HTML(value='')))"
      ]
     },
     "metadata": {},
     "output_type": "display_data"
    },
    {
     "name": "stdout",
     "output_type": "stream",
     "text": [
      "\n",
      "[(8, 0.0), (16, 0.0), (32, 0.0), (64, 0.0), (128, 1.0)]\n"
     ]
    },
    {
     "data": {
      "application/vnd.jupyter.widget-view+json": {
       "model_id": "a92eb036e7c541bb9fad35de96c9300f",
       "version_major": 2,
       "version_minor": 0
      },
      "text/plain": [
       "HBox(children=(IntProgress(value=0, max=5), HTML(value='')))"
      ]
     },
     "metadata": {},
     "output_type": "display_data"
    },
    {
     "name": "stdout",
     "output_type": "stream",
     "text": [
      "\n",
      "[(8, 0.0), (16, 0.0), (32, 0.0), (64, 0.0), (128, 0.0)]\n"
     ]
    },
    {
     "data": {
      "application/vnd.jupyter.widget-view+json": {
       "model_id": "a6018fc7da3a46c88c2a4915c25c7462",
       "version_major": 2,
       "version_minor": 0
      },
      "text/plain": [
       "HBox(children=(IntProgress(value=0, max=5), HTML(value='')))"
      ]
     },
     "metadata": {},
     "output_type": "display_data"
    },
    {
     "name": "stdout",
     "output_type": "stream",
     "text": [
      "\n",
      "[(8, 0.0), (16, 0.0), (32, 0.0), (64, 0.0), (128, 0.0)]\n"
     ]
    },
    {
     "data": {
      "application/vnd.jupyter.widget-view+json": {
       "model_id": "3f20cedd85a84a6c9c2e039073c0eef7",
       "version_major": 2,
       "version_minor": 0
      },
      "text/plain": [
       "HBox(children=(IntProgress(value=0, max=5), HTML(value='')))"
      ]
     },
     "metadata": {},
     "output_type": "display_data"
    },
    {
     "name": "stdout",
     "output_type": "stream",
     "text": [
      "\n",
      "[(8, 0.0), (16, 0.0), (32, 0.0), (64, 0.0), (128, 0.0)]\n"
     ]
    }
   ],
   "source": [
    "###Max K Color\n",
    "problem_size = [8, 16, 32, 64, 128]\n",
    "amount_of_runs = 1\n",
    "\n",
    "edges = [(0, 1), (0, 2), (0, 4), (1, 3), (2, 0), (2, 3), (3, 4)]\n",
    "ff_fitness = mlrose.MaxKColor(edges)\n",
    "\n",
    "res = run_opt_rand_hc(2, ff_fitness, problem_size, amount_of_runs)\n",
    "print(res)\n",
    "\n",
    "res = run_opt_sim_anal(2, ff_fitness, problem_size, amount_of_runs)\n",
    "print(res)\n",
    "\n",
    "res = run_opt_gen_alg(2, ff_fitness, 50, problem_size, amount_of_runs)\n",
    "print(res)\n",
    "\n",
    "res = run_opt_mimic(2, ff_fitness, 10, problem_size, amount_of_runs)\n",
    "print(res)"
   ]
  },
  {
   "cell_type": "code",
   "execution_count": null,
   "metadata": {},
   "outputs": [],
   "source": [
    "#(self, weights, values, max_weight_pct=0.35):\n",
    "\n",
    "problem_size = [8, 16, 32, 64, 128]\n",
    "amount_of_runs = 1\n",
    "\n",
    "edges = [(0, 1), (0, 2), (0, 4), (1, 3), (2, 0), (2, 3), (3, 4)]\n",
    "ff_fitness = mlrose.Knapsack(10, 5, 2, 8, 15], [1, 2, 3, 4, 5])"
   ]
  }
 ],
 "metadata": {
  "kernelspec": {
   "display_name": "Python 3",
   "language": "python",
   "name": "python3"
  },
  "language_info": {
   "codemirror_mode": {
    "name": "ipython",
    "version": 3
   },
   "file_extension": ".py",
   "mimetype": "text/x-python",
   "name": "python",
   "nbconvert_exporter": "python",
   "pygments_lexer": "ipython3",
   "version": "3.7.4"
  }
 },
 "nbformat": 4,
 "nbformat_minor": 2
}
